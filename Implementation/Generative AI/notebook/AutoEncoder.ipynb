{
  "nbformat": 4,
  "nbformat_minor": 0,
  "metadata": {
    "colab": {
      "provenance": []
    },
    "kernelspec": {
      "name": "python3",
      "display_name": "Python 3"
    },
    "language_info": {
      "name": "python"
    }
  },
  "cells": [
    {
      "cell_type": "code",
      "execution_count": null,
      "metadata": {
        "id": "mPdvnmExhqc6"
      },
      "outputs": [],
      "source": [
        "import tensorflow as tf\n",
        "from tensorflow.keras import layers, models\n",
        "from tensorflow.keras import backend as K\n",
        "import numpy as np\n",
        "import matplotlib.pyplot as plt"
      ]
    },
    {
      "cell_type": "code",
      "source": [
        "from tensorflow.keras import datasets\n",
        "\n",
        "(x_train, y_train), (x_test, y_test) = datasets.fashion_mnist.load_data()"
      ],
      "metadata": {
        "id": "Jssn-DvshuxY"
      },
      "execution_count": null,
      "outputs": []
    },
    {
      "cell_type": "code",
      "source": [
        "def preprocess(images):\n",
        "  images = images.astype('float32') / 255.0\n",
        "  images = np.pad(images, ((0,0), (2,2), (2,2)), constant_values=0.0)\n",
        "  images = np.expand_dims(images, -1)\n",
        "  return images\n",
        "\n",
        "x_train = preprocess(x_train)\n",
        "x_test = preprocess(x_test)"
      ],
      "metadata": {
        "id": "zTBTEDyOhzW3"
      },
      "execution_count": null,
      "outputs": []
    },
    {
      "cell_type": "code",
      "source": [
        "class Encoder(tf.keras.layers.Layer):\n",
        "  def build(self, input_shape, filter_seq):\n",
        "    encoder_input_layer = tf.keras.layers.Input(shape=input_shape, name=\"encoder_input\")\n",
        "    x = tf.keras.layers.Conv2D(filter_seq[-1], kernel_size=(3,3), strides=2, activation='relu', padding=\"same\", name=\"enc_conv_1\")(encoder_input_layer)\n",
        "    x = tf.keras.layers.Conv2D(filter_seq[-2], kernel_size=(3,3), strides=2, activation='relu', padding=\"same\", name=\"enc_conv_2\")(x)\n",
        "    x = tf.keras.layers.Conv2D(filter_seq[-3], kernel_size=(3,3), strides=2, activation='relu', padding=\"same\", name=\"enc_conv_3\")(x)\n",
        "    shape_before_flatten = K.int_shape(x)[1:]\n",
        "    x = tf.keras.layers.Flatten()(x)\n",
        "\n",
        "    encoder_output_layer = tf.keras.layers.Dense(2, name=\"enc_dense_1\")(x)\n",
        "    return encoder_input_layer, encoder_output_layer, shape_before_flatten\n",
        "\n",
        "  def __call__(self, input_shape, FILTER_SEQ):\n",
        "    encoder_input_layer, encoder_output_layer, shape_before_flatten = self.build(input_shape, FILTER_SEQ)\n",
        "    return encoder_input_layer, encoder_output_layer, shape_before_flatten"
      ],
      "metadata": {
        "id": "CksHMeBMh1mF"
      },
      "execution_count": null,
      "outputs": []
    },
    {
      "cell_type": "code",
      "source": [
        "class Decoder(tf.keras.layers.Layer):\n",
        "  def build(self, shape_before_flatten, input_shape, filter_seq):\n",
        "    decoder_input_layer = tf.keras.layers.Input(shape=(2,), name=\"decoder_output\")\n",
        "    x = tf.keras.layers.Dense(np.prod(shape_before_flatten), name=\"dec_dense_1\")(decoder_input_layer)\n",
        "    x = tf.keras.layers.Reshape(shape_before_flatten)(x)\n",
        "    x = tf.keras.layers.Conv2DTranspose(filter_seq[0], kernel_size=(3,3), strides=2, activation='relu', padding=\"same\", name=\"dec_transpose_1\")(x)\n",
        "    x = tf.keras.layers.Conv2DTranspose(filter_seq[1], kernel_size=(3,3), strides=2, activation='relu', padding=\"same\", name=\"dec_transpose_2\")(x)\n",
        "    x = tf.keras.layers.Conv2DTranspose(filter_seq[2], kernel_size=(3,3), strides=2, activation='relu', padding=\"same\", name=\"dec_transpose_3\")(x)\n",
        "\n",
        "    decoder_output_layer = tf.keras.layers.Conv2D(input_shape[-1], kernel_size=(3,3), strides=1, activation='sigmoid', padding=\"same\", name=\"decoder_output_layer\")(x)\n",
        "\n",
        "    decoder_shape = K.int_shape(x)[1:]\n",
        "\n",
        "    return decoder_input_layer, decoder_output_layer, decoder_shape\n",
        "\n",
        "  def __call__(self, shape_before_flatten, input_shape, filter_seq):\n",
        "    decoder_input_layer, decoder_output_layer, decoder_shape = self.build(shape_before_flatten, input_shape, filter_seq)\n",
        "    return decoder_input_layer, decoder_output_layer, decoder_shape"
      ],
      "metadata": {
        "id": "Qs2RTUv-h3uz"
      },
      "execution_count": null,
      "outputs": []
    },
    {
      "cell_type": "code",
      "source": [
        "class autoEncoder:\n",
        "  def build(self, input_shape, filter_seq):\n",
        "    encoder = Encoder()\n",
        "    decoder = Decoder()\n",
        "\n",
        "    encoder_input_layer, encoder_output_layer, shape_before_flatten = encoder(input_shape, filter_seq)\n",
        "    self.encoder = tf.keras.models.Model(encoder_input_layer, encoder_output_layer)\n",
        "\n",
        "    decoder_input_layer, decoder_output_layer, decoder_shape = decoder(shape_before_flatten, input_shape, filter_seq)\n",
        "    self.decoder = tf.keras.models.Model(decoder_input_layer, decoder_output_layer)\n",
        "    print(self.decoder.summary())\n",
        "\n",
        "    model = tf.keras.models.Model(encoder_input_layer, self.decoder(encoder_output_layer))\n",
        "    return model\n",
        "\n",
        "  def predict(self, image):\n",
        "    return self.decoder(image)"
      ],
      "metadata": {
        "id": "P4uOtynmh6t8"
      },
      "execution_count": null,
      "outputs": []
    },
    {
      "cell_type": "code",
      "source": [
        "model_autoEncoder = autoEncoder()\n",
        "\n",
        "model = model_autoEncoder.build(input_shape = (IMG_SIZE, IMG_SIZE, CHANNEL), filter_seq=FILTER_SEQ)\n",
        "model.summary()"
      ],
      "metadata": {
        "id": "cmy3B_pIh8Do"
      },
      "execution_count": null,
      "outputs": []
    },
    {
      "cell_type": "code",
      "source": [
        "model.compile(\n",
        "    optimizer = tf.keras.optimizers.Adam(learning_rate = 0.01),\n",
        "    loss = 'binary_crossentropy',\n",
        "    metrics = ['accuracy']\n",
        ")"
      ],
      "metadata": {
        "id": "EY98og__h_LG"
      },
      "execution_count": null,
      "outputs": []
    },
    {
      "cell_type": "code",
      "source": [
        "history = model.fit(\n",
        "    x_train, x_train,\n",
        "    validation_data = (x_test, x_test),\n",
        "    epochs = 10,\n",
        "    shuffle = True,\n",
        "    batch_size = 1\n",
        ")"
      ],
      "metadata": {
        "id": "49Oqo4jIiDJq"
      },
      "execution_count": null,
      "outputs": []
    },
    {
      "cell_type": "markdown",
      "source": [
        "## Image Generation\n",
        "\n",
        "### Encoding"
      ],
      "metadata": {
        "id": "RLvp1GbkiFtI"
      }
    },
    {
      "cell_type": "code",
      "source": [
        "num_samples = 6\n",
        "\n",
        "x_sample = np.random.normal(size=(num_samples, 2))\n",
        "print(x_sample)"
      ],
      "metadata": {
        "id": "I3_1aNDCiJPz"
      },
      "execution_count": null,
      "outputs": []
    },
    {
      "cell_type": "code",
      "source": [
        "encoding = model_autoEncoder.encoder(x_sample)"
      ],
      "metadata": {
        "id": "9vD3XWIpie9e"
      },
      "execution_count": null,
      "outputs": []
    },
    {
      "cell_type": "code",
      "source": [
        "for i in range(num_samples):\n",
        "  plt.scatter(encoding[i, 0], encoding[i, 1])\n",
        "plt.show()"
      ],
      "metadata": {
        "id": "bAINqGXsi1JL"
      },
      "execution_count": null,
      "outputs": []
    },
    {
      "cell_type": "markdown",
      "source": [
        "### decoding"
      ],
      "metadata": {
        "id": "Zd6GTUUhj0ha"
      }
    },
    {
      "cell_type": "code",
      "source": [
        "generate = model_autoEncoder.predict(x_test)"
      ],
      "metadata": {
        "id": "LCFNJJfSjxzS"
      },
      "execution_count": null,
      "outputs": []
    },
    {
      "cell_type": "code",
      "source": [
        "for i in range(num_samples):\n",
        "  plt.subplot(int(num_samples/2), 2, i+1)\n",
        "  plt.imshow(generate[0], cmap='gray')\n",
        "plt.show()"
      ],
      "metadata": {
        "id": "AazhekLIiU3Z"
      },
      "execution_count": null,
      "outputs": []
    }
  ]
}