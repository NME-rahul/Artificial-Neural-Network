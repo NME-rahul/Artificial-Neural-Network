{
  "nbformat": 4,
  "nbformat_minor": 0,
  "metadata": {
    "colab": {
      "provenance": []
    },
    "kernelspec": {
      "name": "python3",
      "display_name": "Python 3"
    },
    "language_info": {
      "name": "python"
    }
  },
  "cells": [
    {
      "cell_type": "code",
      "execution_count": null,
      "metadata": {
        "id": "PRVt1dwu6eKn"
      },
      "outputs": [],
      "source": [
        "import tensorflow as tf\n",
        "from tensorflow.keras import layers, models\n",
        "from tensorflow.keras import backend as K\n",
        "import numpy as np\n",
        "import matplotlib.pyplot as plt\n",
        "from tensorflow.keras.preprocessing.image import ImageDataGenerator"
      ]
    },
    {
      "cell_type": "code",
      "source": [
        "from tensorflow.keras.datasets import fashion_mnist\n",
        "\n",
        "(x_train, y_train), (x_test, y_test) = fashion_mnist.load_data()"
      ],
      "metadata": {
        "id": "w3YHHysk6fs3"
      },
      "execution_count": null,
      "outputs": []
    },
    {
      "cell_type": "code",
      "source": [
        "class Sampling(tf.keras.models.Model):\n",
        "  def __call__(self, inputs):\n",
        "    z_mean, z_log_var = inputs\n",
        "    batch = tf.shape(z_mean)[0]\n",
        "    dim = tf.shape(z_mean)[1]\n",
        "    epsilon = K.random_normal(shape=(batch, dim))\n",
        "    return z_mean + tf.exp(0.5 * z_log_var) * epsilon"
      ],
      "metadata": {
        "id": "nMo0XfJW7NCH"
      },
      "execution_count": null,
      "outputs": []
    },
    {
      "cell_type": "code",
      "source": [
        "encoder_input = layers.Input(shape=(IMG_SIZE, IMG_SIZE, IMG_DIM), name=\"encoder_input\")\n",
        "x = layers.Conv2D(32, (3, 3), strides=2, activation=\"relu\", padding=\"same\")(encoder_input)\n",
        "x = layers.Conv2D(64, (3, 3), strides=2, activation=\"relu\", padding=\"same\")(x)\n",
        "x = layers.Conv2D(128, (3, 3), strides=2, activation=\"relu\", padding=\"same\")(x)\n",
        "shape_before_flatten = K.int_shape(x)[1:]\n",
        "\n",
        "x = layers.Flatten()(x)\n",
        "z_mean = layers.Dense(EMBEDDING_DIM, name=\"z_mean\")(x)\n",
        "z_log_var = layers.Dense(EMBEDDING_DIM, name=\"z_log_var\")(x)\n",
        "z = Sampling()([z_mean, z_log_var])\n",
        "\n",
        "encoder = models.Model(encoder_input, [z_mean, z_log_var, z], name=\"encoder\")\n",
        "encoder.summary()"
      ],
      "metadata": {
        "id": "BcPcyjXC6lv0"
      },
      "execution_count": null,
      "outputs": []
    },
    {
      "cell_type": "code",
      "source": [
        "decoder_input = layers.Input(shape=(EMBEDDING_DIM,), name=\"decoder_input\")\n",
        "x = layers.Dense(np.prod(shape_before_flatten))(decoder_input)\n",
        "x = layers.Reshape(shape_before_flatten)(x)\n",
        "x = layers.Conv2DTranspose(128, (3, 3), strides=2, activation=\"relu\", padding=\"same\")(x)\n",
        "x = layers.Conv2DTranspose(64, (3, 3), strides=2, activation=\"relu\", padding=\"same\")(x)\n",
        "x = layers.Conv2DTranspose(32, (3, 3), strides=2, activation=\"relu\", padding=\"same\")(x)\n",
        "decoder_output = layers.Conv2D(IMG_DIM, (3, 3),strides=1,activation=\"sigmoid\",padding=\"same\",name=\"decoder_output\",)(x)\n",
        "\n",
        "decoder = models.Model(decoder_input, decoder_output)\n",
        "decoder.summary()"
      ],
      "metadata": {
        "id": "ukv0OCBu6mUF"
      },
      "execution_count": null,
      "outputs": []
    },
    {
      "cell_type": "markdown",
      "source": [
        "\n",
        "\n",
        "$$KLloss = -\\frac{1}{2} \\sum(1 + \\log{(\\sigma^2)} - \\mu^2 - \\sigma^2)$$\n",
        "\n",
        "* here we are just backpropgating kl_loss with reconstruction_loss\n",
        "\n",
        "* now, total_loss = reconstruction_loss + kl_loss\n",
        "\n",
        "* reconstruction_loss = calculated_by binary crossentropy(L())\n",
        "\n",
        "$$ReconstructionLoss = mean( 500 * L(X, Decoder(X)) )$$\n",
        "\n",
        "\n",
        "$$-y * \\log(p) - (1-y)\\log(1-(p))$$"
      ],
      "metadata": {
        "id": "KDK0CaxY6rhn"
      }
    },
    {
      "cell_type": "code",
      "source": [
        "class VAE(tf.keras.models.Model):\n",
        "  def __init__(self, encoder, decoder):\n",
        "    super(VAE, self).__init__()\n",
        "    self.encoder = encoder\n",
        "    self.decoder = decoder\n",
        "\n",
        "    self.total_loss_tracker = tf.keras.metrics.Mean(name=\"total_loss\")\n",
        "    self.reconstruction_loss_tracker = tf.keras.metrics.Mean(name=\"reconstruction_loss\")\n",
        "    self.kl_loss_tracker =  tf.keras.metrics.Mean(name=\"kl_loss\")\n",
        "\n",
        "  @property\n",
        "  def metrics(self):\n",
        "    return [\n",
        "        self.total_loss_tracker,\n",
        "        self.reconstruction_loss_tracker,\n",
        "        self.kl_loss_tracker\n",
        "    ]\n",
        "\n",
        "  def __call__(self, inputs, training=None):\n",
        "\n",
        "    z_mean, z_log_var, z = encoder(inputs, training=training)\n",
        "    reconstruction = decoder(z, training=training)\n",
        "    return z_mean, z_log_var, reconstruction\n",
        "\n",
        "  def train_step(self, data):\n",
        "    with tf.GradientTape() as tape:\n",
        "      z_mean, z_log_var, reconstruction = self(data)\n",
        "      reconstruction_loss = tf.reduce_mean(500 *\n",
        "                                           tf.keras.losses.binary_crossentropy(data, reconstruction, axis=(1,2,3)))  #(1,2,3) => along height, width, channel of image\n",
        "      kl_loss = tf.reduce_mean(\n",
        "          tf.reduce_sum(\n",
        "              -0.5 * (1 + z_log_var - tf.square(z_mean) - tf.exp(z_log_var)),\n",
        "              axis = 1\n",
        "          )\n",
        "      )\n",
        "      total_loss = reconstruction_loss + kl_loss\n",
        "\n",
        "      grads = tape.gradient(total_loss, self.trainable_weights)\n",
        "      self.optimizer.apply_gradients(zip(grads, self.trainable_weights))\n",
        "      self.total_loss_tracker.update_state(total_loss)\n",
        "      self.reconstruction_loss_tracker.update_state(reconstruction_loss)\n",
        "      self.kl_loss_tracker.update_state(kl_loss)\n",
        "      return {m.name:m.result() for m in self.metrics}\n"
      ],
      "metadata": {
        "id": "q8iJATUZ6sDK"
      },
      "execution_count": null,
      "outputs": []
    },
    {
      "cell_type": "code",
      "source": [
        "vae = VAE(encoder, decoder)\n",
        "vae.compile(optimizer='adam')"
      ],
      "metadata": {
        "id": "zqYPIGxp6vJC"
      },
      "execution_count": null,
      "outputs": []
    },
    {
      "cell_type": "code",
      "source": [
        "vae.fit(\n",
        "    x_train,\n",
        "    epochs = 20\n",
        ")"
      ],
      "metadata": {
        "id": "L6bQ5j8s6vl-"
      },
      "execution_count": null,
      "outputs": []
    },
    {
      "cell_type": "code",
      "source": [
        "x_sample = np.random.normal(size=(1, 2))\n",
        "\n",
        "generate = decoder(x_sample)\n",
        "\n",
        "plt.imshow(generate[0])\n",
        "plt.show()"
      ],
      "metadata": {
        "id": "EyDZZXJu6xRB"
      },
      "execution_count": null,
      "outputs": []
    }
  ]
}