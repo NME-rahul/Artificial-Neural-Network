{
  "nbformat": 4,
  "nbformat_minor": 0,
  "metadata": {
    "colab": {
      "provenance": []
    },
    "kernelspec": {
      "name": "python3",
      "display_name": "Python 3"
    },
    "language_info": {
      "name": "python"
    }
  },
  "cells": [
    {
      "cell_type": "code",
      "source": [
        "from google.colab import files\n",
        "files.upload()"
      ],
      "metadata": {
        "colab": {
          "base_uri": "https://localhost:8080/",
          "height": 92
        },
        "id": "d5oG8Mn9JsJq",
        "outputId": "d350f6e8-fcdb-45e5-cfe2-292827822b8d"
      },
      "execution_count": 1,
      "outputs": [
        {
          "output_type": "display_data",
          "data": {
            "text/plain": [
              "<IPython.core.display.HTML object>"
            ],
            "text/html": [
              "\n",
              "     <input type=\"file\" id=\"files-6878d1e0-6f0e-4493-ad6b-74f4b608faeb\" name=\"files[]\" multiple disabled\n",
              "        style=\"border:none\" />\n",
              "     <output id=\"result-6878d1e0-6f0e-4493-ad6b-74f4b608faeb\">\n",
              "      Upload widget is only available when the cell has been executed in the\n",
              "      current browser session. Please rerun this cell to enable.\n",
              "      </output>\n",
              "      <script>// Copyright 2017 Google LLC\n",
              "//\n",
              "// Licensed under the Apache License, Version 2.0 (the \"License\");\n",
              "// you may not use this file except in compliance with the License.\n",
              "// You may obtain a copy of the License at\n",
              "//\n",
              "//      http://www.apache.org/licenses/LICENSE-2.0\n",
              "//\n",
              "// Unless required by applicable law or agreed to in writing, software\n",
              "// distributed under the License is distributed on an \"AS IS\" BASIS,\n",
              "// WITHOUT WARRANTIES OR CONDITIONS OF ANY KIND, either express or implied.\n",
              "// See the License for the specific language governing permissions and\n",
              "// limitations under the License.\n",
              "\n",
              "/**\n",
              " * @fileoverview Helpers for google.colab Python module.\n",
              " */\n",
              "(function(scope) {\n",
              "function span(text, styleAttributes = {}) {\n",
              "  const element = document.createElement('span');\n",
              "  element.textContent = text;\n",
              "  for (const key of Object.keys(styleAttributes)) {\n",
              "    element.style[key] = styleAttributes[key];\n",
              "  }\n",
              "  return element;\n",
              "}\n",
              "\n",
              "// Max number of bytes which will be uploaded at a time.\n",
              "const MAX_PAYLOAD_SIZE = 100 * 1024;\n",
              "\n",
              "function _uploadFiles(inputId, outputId) {\n",
              "  const steps = uploadFilesStep(inputId, outputId);\n",
              "  const outputElement = document.getElementById(outputId);\n",
              "  // Cache steps on the outputElement to make it available for the next call\n",
              "  // to uploadFilesContinue from Python.\n",
              "  outputElement.steps = steps;\n",
              "\n",
              "  return _uploadFilesContinue(outputId);\n",
              "}\n",
              "\n",
              "// This is roughly an async generator (not supported in the browser yet),\n",
              "// where there are multiple asynchronous steps and the Python side is going\n",
              "// to poll for completion of each step.\n",
              "// This uses a Promise to block the python side on completion of each step,\n",
              "// then passes the result of the previous step as the input to the next step.\n",
              "function _uploadFilesContinue(outputId) {\n",
              "  const outputElement = document.getElementById(outputId);\n",
              "  const steps = outputElement.steps;\n",
              "\n",
              "  const next = steps.next(outputElement.lastPromiseValue);\n",
              "  return Promise.resolve(next.value.promise).then((value) => {\n",
              "    // Cache the last promise value to make it available to the next\n",
              "    // step of the generator.\n",
              "    outputElement.lastPromiseValue = value;\n",
              "    return next.value.response;\n",
              "  });\n",
              "}\n",
              "\n",
              "/**\n",
              " * Generator function which is called between each async step of the upload\n",
              " * process.\n",
              " * @param {string} inputId Element ID of the input file picker element.\n",
              " * @param {string} outputId Element ID of the output display.\n",
              " * @return {!Iterable<!Object>} Iterable of next steps.\n",
              " */\n",
              "function* uploadFilesStep(inputId, outputId) {\n",
              "  const inputElement = document.getElementById(inputId);\n",
              "  inputElement.disabled = false;\n",
              "\n",
              "  const outputElement = document.getElementById(outputId);\n",
              "  outputElement.innerHTML = '';\n",
              "\n",
              "  const pickedPromise = new Promise((resolve) => {\n",
              "    inputElement.addEventListener('change', (e) => {\n",
              "      resolve(e.target.files);\n",
              "    });\n",
              "  });\n",
              "\n",
              "  const cancel = document.createElement('button');\n",
              "  inputElement.parentElement.appendChild(cancel);\n",
              "  cancel.textContent = 'Cancel upload';\n",
              "  const cancelPromise = new Promise((resolve) => {\n",
              "    cancel.onclick = () => {\n",
              "      resolve(null);\n",
              "    };\n",
              "  });\n",
              "\n",
              "  // Wait for the user to pick the files.\n",
              "  const files = yield {\n",
              "    promise: Promise.race([pickedPromise, cancelPromise]),\n",
              "    response: {\n",
              "      action: 'starting',\n",
              "    }\n",
              "  };\n",
              "\n",
              "  cancel.remove();\n",
              "\n",
              "  // Disable the input element since further picks are not allowed.\n",
              "  inputElement.disabled = true;\n",
              "\n",
              "  if (!files) {\n",
              "    return {\n",
              "      response: {\n",
              "        action: 'complete',\n",
              "      }\n",
              "    };\n",
              "  }\n",
              "\n",
              "  for (const file of files) {\n",
              "    const li = document.createElement('li');\n",
              "    li.append(span(file.name, {fontWeight: 'bold'}));\n",
              "    li.append(span(\n",
              "        `(${file.type || 'n/a'}) - ${file.size} bytes, ` +\n",
              "        `last modified: ${\n",
              "            file.lastModifiedDate ? file.lastModifiedDate.toLocaleDateString() :\n",
              "                                    'n/a'} - `));\n",
              "    const percent = span('0% done');\n",
              "    li.appendChild(percent);\n",
              "\n",
              "    outputElement.appendChild(li);\n",
              "\n",
              "    const fileDataPromise = new Promise((resolve) => {\n",
              "      const reader = new FileReader();\n",
              "      reader.onload = (e) => {\n",
              "        resolve(e.target.result);\n",
              "      };\n",
              "      reader.readAsArrayBuffer(file);\n",
              "    });\n",
              "    // Wait for the data to be ready.\n",
              "    let fileData = yield {\n",
              "      promise: fileDataPromise,\n",
              "      response: {\n",
              "        action: 'continue',\n",
              "      }\n",
              "    };\n",
              "\n",
              "    // Use a chunked sending to avoid message size limits. See b/62115660.\n",
              "    let position = 0;\n",
              "    do {\n",
              "      const length = Math.min(fileData.byteLength - position, MAX_PAYLOAD_SIZE);\n",
              "      const chunk = new Uint8Array(fileData, position, length);\n",
              "      position += length;\n",
              "\n",
              "      const base64 = btoa(String.fromCharCode.apply(null, chunk));\n",
              "      yield {\n",
              "        response: {\n",
              "          action: 'append',\n",
              "          file: file.name,\n",
              "          data: base64,\n",
              "        },\n",
              "      };\n",
              "\n",
              "      let percentDone = fileData.byteLength === 0 ?\n",
              "          100 :\n",
              "          Math.round((position / fileData.byteLength) * 100);\n",
              "      percent.textContent = `${percentDone}% done`;\n",
              "\n",
              "    } while (position < fileData.byteLength);\n",
              "  }\n",
              "\n",
              "  // All done.\n",
              "  yield {\n",
              "    response: {\n",
              "      action: 'complete',\n",
              "    }\n",
              "  };\n",
              "}\n",
              "\n",
              "scope.google = scope.google || {};\n",
              "scope.google.colab = scope.google.colab || {};\n",
              "scope.google.colab._files = {\n",
              "  _uploadFiles,\n",
              "  _uploadFilesContinue,\n",
              "};\n",
              "})(self);\n",
              "</script> "
            ]
          },
          "metadata": {}
        },
        {
          "output_type": "stream",
          "name": "stdout",
          "text": [
            "Saving kaggle.json to kaggle.json\n"
          ]
        },
        {
          "output_type": "execute_result",
          "data": {
            "text/plain": [
              "{'kaggle.json': b'{\"username\":\"nmerahul\",\"key\":\"5d4246bac9061e478316d59a5ed637de\"}'}"
            ]
          },
          "metadata": {},
          "execution_count": 1
        }
      ]
    },
    {
      "cell_type": "code",
      "source": [
        "!mkdir ~/.kaggle\n",
        "!cp kaggle.json ~/.kaggle/\n",
        "!chmod 600 ~/.kaggle/kaggle.json\n",
        "!kaggle datasets download -d uciml/iris\n",
        "!unzip iris"
      ],
      "metadata": {
        "colab": {
          "base_uri": "https://localhost:8080/",
          "height": 0
        },
        "id": "bbgWRIPvKPjV",
        "outputId": "293acd8d-da8e-4531-a6f6-b5c6c4db9a13"
      },
      "execution_count": 2,
      "outputs": [
        {
          "output_type": "stream",
          "name": "stdout",
          "text": [
            "Downloading iris.zip to /content\n",
            "\r  0% 0.00/3.60k [00:00<?, ?B/s]\n",
            "\r100% 3.60k/3.60k [00:00<00:00, 8.75MB/s]\n",
            "Archive:  iris.zip\n",
            "  inflating: Iris.csv                \n",
            "  inflating: database.sqlite         \n"
          ]
        }
      ]
    },
    {
      "cell_type": "markdown",
      "source": [
        "## Aim:- Find core samples of high density and expand clusters from them using DBSCAN Clustering."
      ],
      "metadata": {
        "id": "m4orBzHalMCv"
      }
    },
    {
      "cell_type": "code",
      "execution_count": 3,
      "metadata": {
        "id": "o4OELBzDlCJA"
      },
      "outputs": [],
      "source": [
        "import matplotlib.pyplot as plt\n",
        "import pandas as pd"
      ]
    },
    {
      "cell_type": "code",
      "source": [
        "import sys\n",
        "import random\n",
        "import numpy as np\n",
        "\n",
        "class KMeanClustring():\n",
        "  def __init__(self, k, choose=\"random\"):\n",
        "    self.k = k\n",
        "    self.choose = \"random\"\n",
        "\n",
        "  def calculate_euclidian(self, x1, x2, y1, y2):\n",
        "    return np.sqrt( np.power((x2 - x1), 2) + np.power((y2 - y1), 2) )\n",
        "\n",
        "  def mean(self, arr):\n",
        "    sum = 0\n",
        "    for value in arr:\n",
        "      sum += value\n",
        "    return sum/len(arr)\n",
        "\n",
        "  def calculate_sse(self, centroids, centroid_belonging):\n",
        "    #calculate the distsnce between each data point and it's assigned centroid\n",
        "    sse = 0\n",
        "    for index, centroid_index in enumerate(centroid_belonging):\n",
        "      x1 = self.x[index]; y1 = self.y[index]\n",
        "      x2 = centroids[centroid_index][0]; y2 = centroids[centroid_index][1]\n",
        "      distance = self.calculate_euclidian(x1, x2, y1, y2)\n",
        "      sse += distance ** 2\n",
        "    return sse\n",
        "\n",
        "  def calcuate_centroid_radius(self, distance):\n",
        "    #centroid_radius = largest distance of point from centorid\n",
        "    self.radius = [0 for _ in range(len(distance))]\n",
        "    for index, dist in enumerate(distance):\n",
        "      if self.radius[index] < dist:\n",
        "        self.radius[index] = dist\n",
        "\n",
        "  def update_centroids(self, centroids, centroid_belonging):\n",
        "    temp = [[[], []] for _ in range(len(centroids))]\n",
        "    for index, centroid_index in enumerate(centroid_belonging):\n",
        "      temp[centroid_index][0].append(self.x[index])\n",
        "      temp[centroid_index][1].append(self.y[index])\n",
        "    #new centroids\n",
        "    for i in range(len(centroids)):\n",
        "      centroids[i][0] = self.mean(temp[i][0])\n",
        "      centroids[i][1] = self.mean(temp[i][1])\n",
        "    return centroids\n",
        "\n",
        "  def KMeanAlgo(self, centroids):\n",
        "    if self.x.shape != self.y.shape: #chack the dimension of data\n",
        "      sys.exit('Error: dimension mismatch, expected to be same dimesnion of both array, got {} {}' .format(x.shape, y.shape) )\n",
        "    else:\n",
        "      distance = []; centroid_belonging = []\n",
        "      for i in range(len(self.x)):\n",
        "        x1 = self.x[i]; y1 = self.y[i]\n",
        "        for j in range(len(centroids)):\n",
        "          x2 = centroids[j][0]; y2 = centroids[j][1]\n",
        "          distance.append(self.calculate_euclidian(x1, x2, y1, y2))\n",
        "        centroid_belonging.append(distance.index(min(distance))) #assign wich data point belongs to which centroid\n",
        "        self.calcuate_centroid_radius(distance)\n",
        "        distance.clear() #clear distance claculated for each data point from centroid\n",
        "    return centroid_belonging\n",
        "\n",
        "  def fit(self, x, y, epochs, **kwargs):\n",
        "    self.x = np.array(x)\n",
        "    self.y = np.array(y)\n",
        "    self.x = np.squeeze(x)\n",
        "    self.y = np.squeeze(y)\n",
        "\n",
        "    if self.choose == \"random\":\n",
        "      centroids = [ [random.choice(self.x), random.choice(self.y)] for _ in range(self.k)]\n",
        "      centroids = np.array(centroids)\n",
        "    else:\n",
        "      centroids = kwargs['centroid']\n",
        "\n",
        "    history = {'centroids': np.array(centroids), 'sse': np.array([])}\n",
        "    sse = np.array([])\n",
        "    for epoch in range(epochs):\n",
        "      print(\"epoch: {} \\nNew Centroids: {}\" .format(epoch+1, centroids))\n",
        "      centroid_belonging = self.KMeanAlgo(centroids)\n",
        "      centorids = self.update_centroids(centroids, centroid_belonging)\n",
        "      history['centroids'] = np.append(history['centroids'], centroids, axis=0)\n",
        "      history['sse'] = np.append(history['sse'], self.calculate_sse(centroids, centroid_belonging))\n",
        "\n",
        "    history['radius'] = self.radius\n",
        "\n",
        "    return history\n",
        "\n",
        "  def __call__():\n",
        "    print(\"🫰🏻\")\n",
        "\n",
        "def circle(radius=1, center=(0,0), c='black', show=False):\n",
        "  series = np.linspace(0, 2*np.pi, 100)\n",
        "  x = radius * np.sin(series) + center[0]\n",
        "  y = radius * np.cos(series) + center[1]\n",
        "  plt.plot(x, y, c=c)\n",
        "  if show == True:\n",
        "    plt.show()"
      ],
      "metadata": {
        "id": "7S3zI1WEuqKb"
      },
      "execution_count": 101,
      "outputs": []
    },
    {
      "cell_type": "code",
      "source": [
        "df = pd.read_csv('/content/Iris.csv')\n",
        "df.tail()"
      ],
      "metadata": {
        "colab": {
          "base_uri": "https://localhost:8080/",
          "height": 206
        },
        "id": "R1dWqukTJY7a",
        "outputId": "dafd2dd1-b4d2-4305-8eab-7a4ce7e6dbcf"
      },
      "execution_count": 20,
      "outputs": [
        {
          "output_type": "execute_result",
          "data": {
            "text/plain": [
              "      Id  SepalLengthCm  SepalWidthCm  PetalLengthCm  PetalWidthCm  \\\n",
              "145  146            6.7           3.0            5.2           2.3   \n",
              "146  147            6.3           2.5            5.0           1.9   \n",
              "147  148            6.5           3.0            5.2           2.0   \n",
              "148  149            6.2           3.4            5.4           2.3   \n",
              "149  150            5.9           3.0            5.1           1.8   \n",
              "\n",
              "            Species  \n",
              "145  Iris-virginica  \n",
              "146  Iris-virginica  \n",
              "147  Iris-virginica  \n",
              "148  Iris-virginica  \n",
              "149  Iris-virginica  "
            ],
            "text/html": [
              "\n",
              "\n",
              "  <div id=\"df-d88cd5b4-dd41-4e47-9cbb-9dd57dc36270\">\n",
              "    <div class=\"colab-df-container\">\n",
              "      <div>\n",
              "<style scoped>\n",
              "    .dataframe tbody tr th:only-of-type {\n",
              "        vertical-align: middle;\n",
              "    }\n",
              "\n",
              "    .dataframe tbody tr th {\n",
              "        vertical-align: top;\n",
              "    }\n",
              "\n",
              "    .dataframe thead th {\n",
              "        text-align: right;\n",
              "    }\n",
              "</style>\n",
              "<table border=\"1\" class=\"dataframe\">\n",
              "  <thead>\n",
              "    <tr style=\"text-align: right;\">\n",
              "      <th></th>\n",
              "      <th>Id</th>\n",
              "      <th>SepalLengthCm</th>\n",
              "      <th>SepalWidthCm</th>\n",
              "      <th>PetalLengthCm</th>\n",
              "      <th>PetalWidthCm</th>\n",
              "      <th>Species</th>\n",
              "    </tr>\n",
              "  </thead>\n",
              "  <tbody>\n",
              "    <tr>\n",
              "      <th>145</th>\n",
              "      <td>146</td>\n",
              "      <td>6.7</td>\n",
              "      <td>3.0</td>\n",
              "      <td>5.2</td>\n",
              "      <td>2.3</td>\n",
              "      <td>Iris-virginica</td>\n",
              "    </tr>\n",
              "    <tr>\n",
              "      <th>146</th>\n",
              "      <td>147</td>\n",
              "      <td>6.3</td>\n",
              "      <td>2.5</td>\n",
              "      <td>5.0</td>\n",
              "      <td>1.9</td>\n",
              "      <td>Iris-virginica</td>\n",
              "    </tr>\n",
              "    <tr>\n",
              "      <th>147</th>\n",
              "      <td>148</td>\n",
              "      <td>6.5</td>\n",
              "      <td>3.0</td>\n",
              "      <td>5.2</td>\n",
              "      <td>2.0</td>\n",
              "      <td>Iris-virginica</td>\n",
              "    </tr>\n",
              "    <tr>\n",
              "      <th>148</th>\n",
              "      <td>149</td>\n",
              "      <td>6.2</td>\n",
              "      <td>3.4</td>\n",
              "      <td>5.4</td>\n",
              "      <td>2.3</td>\n",
              "      <td>Iris-virginica</td>\n",
              "    </tr>\n",
              "    <tr>\n",
              "      <th>149</th>\n",
              "      <td>150</td>\n",
              "      <td>5.9</td>\n",
              "      <td>3.0</td>\n",
              "      <td>5.1</td>\n",
              "      <td>1.8</td>\n",
              "      <td>Iris-virginica</td>\n",
              "    </tr>\n",
              "  </tbody>\n",
              "</table>\n",
              "</div>\n",
              "      <button class=\"colab-df-convert\" onclick=\"convertToInteractive('df-d88cd5b4-dd41-4e47-9cbb-9dd57dc36270')\"\n",
              "              title=\"Convert this dataframe to an interactive table.\"\n",
              "              style=\"display:none;\">\n",
              "\n",
              "  <svg xmlns=\"http://www.w3.org/2000/svg\" height=\"24px\"viewBox=\"0 0 24 24\"\n",
              "       width=\"24px\">\n",
              "    <path d=\"M0 0h24v24H0V0z\" fill=\"none\"/>\n",
              "    <path d=\"M18.56 5.44l.94 2.06.94-2.06 2.06-.94-2.06-.94-.94-2.06-.94 2.06-2.06.94zm-11 1L8.5 8.5l.94-2.06 2.06-.94-2.06-.94L8.5 2.5l-.94 2.06-2.06.94zm10 10l.94 2.06.94-2.06 2.06-.94-2.06-.94-.94-2.06-.94 2.06-2.06.94z\"/><path d=\"M17.41 7.96l-1.37-1.37c-.4-.4-.92-.59-1.43-.59-.52 0-1.04.2-1.43.59L10.3 9.45l-7.72 7.72c-.78.78-.78 2.05 0 2.83L4 21.41c.39.39.9.59 1.41.59.51 0 1.02-.2 1.41-.59l7.78-7.78 2.81-2.81c.8-.78.8-2.07 0-2.86zM5.41 20L4 18.59l7.72-7.72 1.47 1.35L5.41 20z\"/>\n",
              "  </svg>\n",
              "      </button>\n",
              "\n",
              "\n",
              "\n",
              "    <div id=\"df-d5953fe8-2fac-4349-9d33-3d5d263d4b1f\">\n",
              "      <button class=\"colab-df-quickchart\" onclick=\"quickchart('df-d5953fe8-2fac-4349-9d33-3d5d263d4b1f')\"\n",
              "              title=\"Suggest charts.\"\n",
              "              style=\"display:none;\">\n",
              "\n",
              "<svg xmlns=\"http://www.w3.org/2000/svg\" height=\"24px\"viewBox=\"0 0 24 24\"\n",
              "     width=\"24px\">\n",
              "    <g>\n",
              "        <path d=\"M19 3H5c-1.1 0-2 .9-2 2v14c0 1.1.9 2 2 2h14c1.1 0 2-.9 2-2V5c0-1.1-.9-2-2-2zM9 17H7v-7h2v7zm4 0h-2V7h2v10zm4 0h-2v-4h2v4z\"/>\n",
              "    </g>\n",
              "</svg>\n",
              "      </button>\n",
              "    </div>\n",
              "\n",
              "<style>\n",
              "  .colab-df-quickchart {\n",
              "    background-color: #E8F0FE;\n",
              "    border: none;\n",
              "    border-radius: 50%;\n",
              "    cursor: pointer;\n",
              "    display: none;\n",
              "    fill: #1967D2;\n",
              "    height: 32px;\n",
              "    padding: 0 0 0 0;\n",
              "    width: 32px;\n",
              "  }\n",
              "\n",
              "  .colab-df-quickchart:hover {\n",
              "    background-color: #E2EBFA;\n",
              "    box-shadow: 0px 1px 2px rgba(60, 64, 67, 0.3), 0px 1px 3px 1px rgba(60, 64, 67, 0.15);\n",
              "    fill: #174EA6;\n",
              "  }\n",
              "\n",
              "  [theme=dark] .colab-df-quickchart {\n",
              "    background-color: #3B4455;\n",
              "    fill: #D2E3FC;\n",
              "  }\n",
              "\n",
              "  [theme=dark] .colab-df-quickchart:hover {\n",
              "    background-color: #434B5C;\n",
              "    box-shadow: 0px 1px 3px 1px rgba(0, 0, 0, 0.15);\n",
              "    filter: drop-shadow(0px 1px 2px rgba(0, 0, 0, 0.3));\n",
              "    fill: #FFFFFF;\n",
              "  }\n",
              "</style>\n",
              "\n",
              "    <script>\n",
              "      async function quickchart(key) {\n",
              "        const containerElement = document.querySelector('#' + key);\n",
              "        const charts = await google.colab.kernel.invokeFunction(\n",
              "            'suggestCharts', [key], {});\n",
              "      }\n",
              "    </script>\n",
              "\n",
              "      <script>\n",
              "\n",
              "function displayQuickchartButton(domScope) {\n",
              "  let quickchartButtonEl =\n",
              "    domScope.querySelector('#df-d5953fe8-2fac-4349-9d33-3d5d263d4b1f button.colab-df-quickchart');\n",
              "  quickchartButtonEl.style.display =\n",
              "    google.colab.kernel.accessAllowed ? 'block' : 'none';\n",
              "}\n",
              "\n",
              "        displayQuickchartButton(document);\n",
              "      </script>\n",
              "      <style>\n",
              "    .colab-df-container {\n",
              "      display:flex;\n",
              "      flex-wrap:wrap;\n",
              "      gap: 12px;\n",
              "    }\n",
              "\n",
              "    .colab-df-convert {\n",
              "      background-color: #E8F0FE;\n",
              "      border: none;\n",
              "      border-radius: 50%;\n",
              "      cursor: pointer;\n",
              "      display: none;\n",
              "      fill: #1967D2;\n",
              "      height: 32px;\n",
              "      padding: 0 0 0 0;\n",
              "      width: 32px;\n",
              "    }\n",
              "\n",
              "    .colab-df-convert:hover {\n",
              "      background-color: #E2EBFA;\n",
              "      box-shadow: 0px 1px 2px rgba(60, 64, 67, 0.3), 0px 1px 3px 1px rgba(60, 64, 67, 0.15);\n",
              "      fill: #174EA6;\n",
              "    }\n",
              "\n",
              "    [theme=dark] .colab-df-convert {\n",
              "      background-color: #3B4455;\n",
              "      fill: #D2E3FC;\n",
              "    }\n",
              "\n",
              "    [theme=dark] .colab-df-convert:hover {\n",
              "      background-color: #434B5C;\n",
              "      box-shadow: 0px 1px 3px 1px rgba(0, 0, 0, 0.15);\n",
              "      filter: drop-shadow(0px 1px 2px rgba(0, 0, 0, 0.3));\n",
              "      fill: #FFFFFF;\n",
              "    }\n",
              "  </style>\n",
              "\n",
              "      <script>\n",
              "        const buttonEl =\n",
              "          document.querySelector('#df-d88cd5b4-dd41-4e47-9cbb-9dd57dc36270 button.colab-df-convert');\n",
              "        buttonEl.style.display =\n",
              "          google.colab.kernel.accessAllowed ? 'block' : 'none';\n",
              "\n",
              "        async function convertToInteractive(key) {\n",
              "          const element = document.querySelector('#df-d88cd5b4-dd41-4e47-9cbb-9dd57dc36270');\n",
              "          const dataTable =\n",
              "            await google.colab.kernel.invokeFunction('convertToInteractive',\n",
              "                                                     [key], {});\n",
              "          if (!dataTable) return;\n",
              "\n",
              "          const docLinkHtml = 'Like what you see? Visit the ' +\n",
              "            '<a target=\"_blank\" href=https://colab.research.google.com/notebooks/data_table.ipynb>data table notebook</a>'\n",
              "            + ' to learn more about interactive tables.';\n",
              "          element.innerHTML = '';\n",
              "          dataTable['output_type'] = 'display_data';\n",
              "          await google.colab.output.renderOutput(dataTable, element);\n",
              "          const docLink = document.createElement('div');\n",
              "          docLink.innerHTML = docLinkHtml;\n",
              "          element.appendChild(docLink);\n",
              "        }\n",
              "      </script>\n",
              "    </div>\n",
              "  </div>\n"
            ]
          },
          "metadata": {},
          "execution_count": 20
        }
      ]
    },
    {
      "cell_type": "code",
      "source": [
        "Iris_setosa = df.iloc[:50]\n",
        "Iris_versicolor = df.iloc[50: 100]\n",
        "Iris_virginica = df.iloc[100: 150]"
      ],
      "metadata": {
        "id": "0xYscT4TLEFu"
      },
      "execution_count": 21,
      "outputs": []
    },
    {
      "cell_type": "code",
      "source": [
        "Iris_setosa.head()"
      ],
      "metadata": {
        "colab": {
          "base_uri": "https://localhost:8080/",
          "height": 206
        },
        "id": "4Cogb7TBNKIY",
        "outputId": "3f8141a5-707c-4731-f216-213820cff79b"
      },
      "execution_count": 24,
      "outputs": [
        {
          "output_type": "execute_result",
          "data": {
            "text/plain": [
              "   Id  SepalLengthCm  SepalWidthCm  PetalLengthCm  PetalWidthCm      Species\n",
              "0   1            5.1           3.5            1.4           0.2  Iris-setosa\n",
              "1   2            4.9           3.0            1.4           0.2  Iris-setosa\n",
              "2   3            4.7           3.2            1.3           0.2  Iris-setosa\n",
              "3   4            4.6           3.1            1.5           0.2  Iris-setosa\n",
              "4   5            5.0           3.6            1.4           0.2  Iris-setosa"
            ],
            "text/html": [
              "\n",
              "\n",
              "  <div id=\"df-6a9f824d-4fb6-464b-91f8-c94290e77e39\">\n",
              "    <div class=\"colab-df-container\">\n",
              "      <div>\n",
              "<style scoped>\n",
              "    .dataframe tbody tr th:only-of-type {\n",
              "        vertical-align: middle;\n",
              "    }\n",
              "\n",
              "    .dataframe tbody tr th {\n",
              "        vertical-align: top;\n",
              "    }\n",
              "\n",
              "    .dataframe thead th {\n",
              "        text-align: right;\n",
              "    }\n",
              "</style>\n",
              "<table border=\"1\" class=\"dataframe\">\n",
              "  <thead>\n",
              "    <tr style=\"text-align: right;\">\n",
              "      <th></th>\n",
              "      <th>Id</th>\n",
              "      <th>SepalLengthCm</th>\n",
              "      <th>SepalWidthCm</th>\n",
              "      <th>PetalLengthCm</th>\n",
              "      <th>PetalWidthCm</th>\n",
              "      <th>Species</th>\n",
              "    </tr>\n",
              "  </thead>\n",
              "  <tbody>\n",
              "    <tr>\n",
              "      <th>0</th>\n",
              "      <td>1</td>\n",
              "      <td>5.1</td>\n",
              "      <td>3.5</td>\n",
              "      <td>1.4</td>\n",
              "      <td>0.2</td>\n",
              "      <td>Iris-setosa</td>\n",
              "    </tr>\n",
              "    <tr>\n",
              "      <th>1</th>\n",
              "      <td>2</td>\n",
              "      <td>4.9</td>\n",
              "      <td>3.0</td>\n",
              "      <td>1.4</td>\n",
              "      <td>0.2</td>\n",
              "      <td>Iris-setosa</td>\n",
              "    </tr>\n",
              "    <tr>\n",
              "      <th>2</th>\n",
              "      <td>3</td>\n",
              "      <td>4.7</td>\n",
              "      <td>3.2</td>\n",
              "      <td>1.3</td>\n",
              "      <td>0.2</td>\n",
              "      <td>Iris-setosa</td>\n",
              "    </tr>\n",
              "    <tr>\n",
              "      <th>3</th>\n",
              "      <td>4</td>\n",
              "      <td>4.6</td>\n",
              "      <td>3.1</td>\n",
              "      <td>1.5</td>\n",
              "      <td>0.2</td>\n",
              "      <td>Iris-setosa</td>\n",
              "    </tr>\n",
              "    <tr>\n",
              "      <th>4</th>\n",
              "      <td>5</td>\n",
              "      <td>5.0</td>\n",
              "      <td>3.6</td>\n",
              "      <td>1.4</td>\n",
              "      <td>0.2</td>\n",
              "      <td>Iris-setosa</td>\n",
              "    </tr>\n",
              "  </tbody>\n",
              "</table>\n",
              "</div>\n",
              "      <button class=\"colab-df-convert\" onclick=\"convertToInteractive('df-6a9f824d-4fb6-464b-91f8-c94290e77e39')\"\n",
              "              title=\"Convert this dataframe to an interactive table.\"\n",
              "              style=\"display:none;\">\n",
              "\n",
              "  <svg xmlns=\"http://www.w3.org/2000/svg\" height=\"24px\"viewBox=\"0 0 24 24\"\n",
              "       width=\"24px\">\n",
              "    <path d=\"M0 0h24v24H0V0z\" fill=\"none\"/>\n",
              "    <path d=\"M18.56 5.44l.94 2.06.94-2.06 2.06-.94-2.06-.94-.94-2.06-.94 2.06-2.06.94zm-11 1L8.5 8.5l.94-2.06 2.06-.94-2.06-.94L8.5 2.5l-.94 2.06-2.06.94zm10 10l.94 2.06.94-2.06 2.06-.94-2.06-.94-.94-2.06-.94 2.06-2.06.94z\"/><path d=\"M17.41 7.96l-1.37-1.37c-.4-.4-.92-.59-1.43-.59-.52 0-1.04.2-1.43.59L10.3 9.45l-7.72 7.72c-.78.78-.78 2.05 0 2.83L4 21.41c.39.39.9.59 1.41.59.51 0 1.02-.2 1.41-.59l7.78-7.78 2.81-2.81c.8-.78.8-2.07 0-2.86zM5.41 20L4 18.59l7.72-7.72 1.47 1.35L5.41 20z\"/>\n",
              "  </svg>\n",
              "      </button>\n",
              "\n",
              "\n",
              "\n",
              "    <div id=\"df-e2872dfd-7af6-4df1-be23-7f270189851a\">\n",
              "      <button class=\"colab-df-quickchart\" onclick=\"quickchart('df-e2872dfd-7af6-4df1-be23-7f270189851a')\"\n",
              "              title=\"Suggest charts.\"\n",
              "              style=\"display:none;\">\n",
              "\n",
              "<svg xmlns=\"http://www.w3.org/2000/svg\" height=\"24px\"viewBox=\"0 0 24 24\"\n",
              "     width=\"24px\">\n",
              "    <g>\n",
              "        <path d=\"M19 3H5c-1.1 0-2 .9-2 2v14c0 1.1.9 2 2 2h14c1.1 0 2-.9 2-2V5c0-1.1-.9-2-2-2zM9 17H7v-7h2v7zm4 0h-2V7h2v10zm4 0h-2v-4h2v4z\"/>\n",
              "    </g>\n",
              "</svg>\n",
              "      </button>\n",
              "    </div>\n",
              "\n",
              "<style>\n",
              "  .colab-df-quickchart {\n",
              "    background-color: #E8F0FE;\n",
              "    border: none;\n",
              "    border-radius: 50%;\n",
              "    cursor: pointer;\n",
              "    display: none;\n",
              "    fill: #1967D2;\n",
              "    height: 32px;\n",
              "    padding: 0 0 0 0;\n",
              "    width: 32px;\n",
              "  }\n",
              "\n",
              "  .colab-df-quickchart:hover {\n",
              "    background-color: #E2EBFA;\n",
              "    box-shadow: 0px 1px 2px rgba(60, 64, 67, 0.3), 0px 1px 3px 1px rgba(60, 64, 67, 0.15);\n",
              "    fill: #174EA6;\n",
              "  }\n",
              "\n",
              "  [theme=dark] .colab-df-quickchart {\n",
              "    background-color: #3B4455;\n",
              "    fill: #D2E3FC;\n",
              "  }\n",
              "\n",
              "  [theme=dark] .colab-df-quickchart:hover {\n",
              "    background-color: #434B5C;\n",
              "    box-shadow: 0px 1px 3px 1px rgba(0, 0, 0, 0.15);\n",
              "    filter: drop-shadow(0px 1px 2px rgba(0, 0, 0, 0.3));\n",
              "    fill: #FFFFFF;\n",
              "  }\n",
              "</style>\n",
              "\n",
              "    <script>\n",
              "      async function quickchart(key) {\n",
              "        const containerElement = document.querySelector('#' + key);\n",
              "        const charts = await google.colab.kernel.invokeFunction(\n",
              "            'suggestCharts', [key], {});\n",
              "      }\n",
              "    </script>\n",
              "\n",
              "      <script>\n",
              "\n",
              "function displayQuickchartButton(domScope) {\n",
              "  let quickchartButtonEl =\n",
              "    domScope.querySelector('#df-e2872dfd-7af6-4df1-be23-7f270189851a button.colab-df-quickchart');\n",
              "  quickchartButtonEl.style.display =\n",
              "    google.colab.kernel.accessAllowed ? 'block' : 'none';\n",
              "}\n",
              "\n",
              "        displayQuickchartButton(document);\n",
              "      </script>\n",
              "      <style>\n",
              "    .colab-df-container {\n",
              "      display:flex;\n",
              "      flex-wrap:wrap;\n",
              "      gap: 12px;\n",
              "    }\n",
              "\n",
              "    .colab-df-convert {\n",
              "      background-color: #E8F0FE;\n",
              "      border: none;\n",
              "      border-radius: 50%;\n",
              "      cursor: pointer;\n",
              "      display: none;\n",
              "      fill: #1967D2;\n",
              "      height: 32px;\n",
              "      padding: 0 0 0 0;\n",
              "      width: 32px;\n",
              "    }\n",
              "\n",
              "    .colab-df-convert:hover {\n",
              "      background-color: #E2EBFA;\n",
              "      box-shadow: 0px 1px 2px rgba(60, 64, 67, 0.3), 0px 1px 3px 1px rgba(60, 64, 67, 0.15);\n",
              "      fill: #174EA6;\n",
              "    }\n",
              "\n",
              "    [theme=dark] .colab-df-convert {\n",
              "      background-color: #3B4455;\n",
              "      fill: #D2E3FC;\n",
              "    }\n",
              "\n",
              "    [theme=dark] .colab-df-convert:hover {\n",
              "      background-color: #434B5C;\n",
              "      box-shadow: 0px 1px 3px 1px rgba(0, 0, 0, 0.15);\n",
              "      filter: drop-shadow(0px 1px 2px rgba(0, 0, 0, 0.3));\n",
              "      fill: #FFFFFF;\n",
              "    }\n",
              "  </style>\n",
              "\n",
              "      <script>\n",
              "        const buttonEl =\n",
              "          document.querySelector('#df-6a9f824d-4fb6-464b-91f8-c94290e77e39 button.colab-df-convert');\n",
              "        buttonEl.style.display =\n",
              "          google.colab.kernel.accessAllowed ? 'block' : 'none';\n",
              "\n",
              "        async function convertToInteractive(key) {\n",
              "          const element = document.querySelector('#df-6a9f824d-4fb6-464b-91f8-c94290e77e39');\n",
              "          const dataTable =\n",
              "            await google.colab.kernel.invokeFunction('convertToInteractive',\n",
              "                                                     [key], {});\n",
              "          if (!dataTable) return;\n",
              "\n",
              "          const docLinkHtml = 'Like what you see? Visit the ' +\n",
              "            '<a target=\"_blank\" href=https://colab.research.google.com/notebooks/data_table.ipynb>data table notebook</a>'\n",
              "            + ' to learn more about interactive tables.';\n",
              "          element.innerHTML = '';\n",
              "          dataTable['output_type'] = 'display_data';\n",
              "          await google.colab.output.renderOutput(dataTable, element);\n",
              "          const docLink = document.createElement('div');\n",
              "          docLink.innerHTML = docLinkHtml;\n",
              "          element.appendChild(docLink);\n",
              "        }\n",
              "      </script>\n",
              "    </div>\n",
              "  </div>\n"
            ]
          },
          "metadata": {},
          "execution_count": 24
        }
      ]
    },
    {
      "cell_type": "code",
      "source": [
        "Iris_setosa_SepalLengthCm\t = Iris_setosa['SepalLengthCm']\n",
        "Iris_versicolor_SepalLengthCm = Iris_versicolor['SepalLengthCm']\n",
        "Iris_virginica_SepalLengthCm = Iris_virginica['SepalLengthCm']\n",
        "\n",
        "Iris_setosa_SepalWidthCm = Iris_setosa['SepalWidthCm']\n",
        "Iris_versicolor_SepalWidthCm = Iris_versicolor['SepalWidthCm']\n",
        "Iris_virginica_SepalWidthCm = Iris_virginica['SepalWidthCm']\n",
        "\n",
        "Iris_setosa_PetalLengthCm = Iris_setosa['PetalLengthCm']\n",
        "Iris_versicolor_PetalLengthCm = Iris_versicolor['PetalLengthCm']\n",
        "Iris_virginica_PetalLengthCm = Iris_virginica['PetalLengthCm']\n",
        "\n",
        "Iris_setosa_PetalWidthCm = Iris_setosa['PetalWidthCm']\n",
        "Iris_versicolor_PetalWidthCm = Iris_versicolor['PetalWidthCm']\n",
        "Iris_virginica_PetalWidthCm = Iris_virginica['PetalWidthCm']"
      ],
      "metadata": {
        "id": "pNg_OZ7XM61d"
      },
      "execution_count": 34,
      "outputs": []
    },
    {
      "cell_type": "code",
      "source": [
        "plt.scatter(Iris_setosa_PetalWidthCm, Iris_setosa_SepalWidthCm, c='#ffc425', label='Iris_setosa')\n",
        "plt.scatter(Iris_versicolor_PetalWidthCm, Iris_versicolor_SepalWidthCm, c='#45818e', label='Iris_versicolo')\n",
        "plt.scatter(Iris_virginica_PetalWidthCm, Iris_virginica_SepalWidthCm, c='#bcbcbc', label='Iris_virginica')\n",
        "plt.legend()\n",
        "\n",
        "plt.show()"
      ],
      "metadata": {
        "colab": {
          "base_uri": "https://localhost:8080/",
          "height": 433
        },
        "id": "2_XoBB3LNeEM",
        "outputId": "ca3e5e44-f825-49e6-8c4d-8dfdfdd46621"
      },
      "execution_count": 113,
      "outputs": [
        {
          "output_type": "display_data",
          "data": {
            "text/plain": [
              "<Figure size 640x480 with 1 Axes>"
            ],
            "image/png": "[encoded data removed]"
          },
          "metadata": {}
        }
      ]
    },
    {
      "cell_type": "code",
      "source": [
        "model = KMeanClustring(k=3)\n",
        "\n",
        "epochs = 10\n",
        "history = model.fit(\n",
        "    x = df['PetalWidthCm'],\n",
        "    y = df['SepalWidthCm'],\n",
        "    epochs=epochs\n",
        ")"
      ],
      "metadata": {
        "colab": {
          "base_uri": "https://localhost:8080/",
          "height": 0
        },
        "id": "t5-U5kupJsVR",
        "outputId": "fd007d49-94d5-49b7-d4af-cc3f7f49d8ca"
      },
      "execution_count": 81,
      "outputs": [
        {
          "output_type": "stream",
          "name": "stdout",
          "text": [
            "epoch: 1 \n",
            "New Centroids: [[1.  2.8]\n",
            " [1.8 3.4]\n",
            " [2.2 2.9]]\n",
            "epoch: 2 \n",
            "New Centroids: [[0.70769231 3.07032967]\n",
            " [1.76       3.2       ]\n",
            " [2.1        2.90294118]]\n",
            "epoch: 3 \n",
            "New Centroids: [[0.47647059 3.17205882]\n",
            " [1.55116279 3.01860465]\n",
            " [2.06923077 2.88717949]]\n",
            "epoch: 4 \n",
            "New Centroids: [[0.244      3.418     ]\n",
            " [1.39508197 2.80655738]\n",
            " [2.11538462 2.97435897]]\n",
            "epoch: 5 \n",
            "New Centroids: [[0.244      3.418     ]\n",
            " [1.34545455 2.74363636]\n",
            " [2.08       3.02888889]]\n",
            "epoch: 6 \n",
            "New Centroids: [[0.244      3.418     ]\n",
            " [1.32884615 2.71538462]\n",
            " [2.05208333 3.04166667]]\n",
            "epoch: 7 \n",
            "New Centroids: [[0.24285714 3.44081633]\n",
            " [1.30943396 2.70754717]\n",
            " [2.05208333 3.04166667]]\n",
            "epoch: 8 \n",
            "New Centroids: [[0.24285714 3.44081633]\n",
            " [1.30943396 2.70754717]\n",
            " [2.05208333 3.04166667]]\n",
            "epoch: 9 \n",
            "New Centroids: [[0.24285714 3.44081633]\n",
            " [1.30943396 2.70754717]\n",
            " [2.05208333 3.04166667]]\n",
            "epoch: 10 \n",
            "New Centroids: [[0.24285714 3.44081633]\n",
            " [1.30943396 2.70754717]\n",
            " [2.05208333 3.04166667]]\n"
          ]
        }
      ]
    },
    {
      "cell_type": "code",
      "source": [
        "plt.scatter(Iris_setosa_PetalWidthCm, Iris_setosa_SepalWidthCm, c='#ffc425', label='Iris_setosa')\n",
        "plt.scatter(history['centroids'][-3:][0][0] ,history['centroids'][-3:][0][1], c='black', label='Centroid of cluster')\n",
        "circle(radius=history['radius'][0]-0.7, center=(history['centroids'][-3:][0][0] ,history['centroids'][-3:][0][1]), c='#ffc425')\n",
        "\n",
        "plt.scatter(Iris_versicolor_PetalWidthCm, Iris_versicolor_SepalWidthCm, c='#45818e', label='Iris_versicolo')\n",
        "plt.scatter(history['centroids'][-3:][1][0] ,history['centroids'][-3:][1][1], c='black')\n",
        "circle(radius=history['radius'][1]-0.2, center=(history['centroids'][-3:][1][0] ,history['centroids'][-3:][1][1]), c='#45818e')\n",
        "\n",
        "plt.scatter(Iris_virginica_PetalWidthCm, Iris_virginica_SepalWidthCm, c='#bcbcbc', label='Iris_virginica')\n",
        "plt.scatter(history['centroids'][-3:][2][0] ,history['centroids'][-3:][2][1], c='black')\n",
        "circle(radius=history['radius'][2]+0.2, center=(history['centroids'][-3:][2][0] ,history['centroids'][-3:][2][1]), c='#bcbcbc')\n",
        "\n",
        "plt.title('PetalWidth vs SepalWidth')\n",
        "\n",
        "plt.legend()\n",
        "\n",
        "plt.show()"
      ],
      "metadata": {
        "colab": {
          "base_uri": "https://localhost:8080/",
          "height": 452
        },
        "id": "x4KW3zqoQ7cG",
        "outputId": "b49999fe-2305-4ea1-827f-c31eee30126e"
      },
      "execution_count": 112,
      "outputs": [
        {
          "output_type": "display_data",
          "data": {
            "text/plain": [
              "<Figure size 640x480 with 1 Axes>"
            ],
            "image/png": "[encoded data removed]"
          },
          "metadata": {}
        }
      ]
    },
    {
      "cell_type": "code",
      "source": [
        "plt.scatter(Iris_setosa_PetalWidthCm, Iris_setosa_PetalLengthCm, c='#d3a200', label='Iris_setosa')\n",
        "plt.scatter(Iris_versicolor_PetalWidthCm, Iris_versicolor_PetalLengthCm, c='#b10b53', label='Iris_versicolo')\n",
        "plt.scatter(Iris_virginica_PetalWidthCm, Iris_virginica_PetalLengthCm, c='#141e6c', label='Iris_virginica')\n",
        "plt.legend()"
      ],
      "metadata": {
        "colab": {
          "base_uri": "https://localhost:8080/",
          "height": 448
        },
        "id": "oxYBlNIvcXMH",
        "outputId": "9b3a7d9b-78bd-4f3c-9e63-d9e1fe71da62"
      },
      "execution_count": 116,
      "outputs": [
        {
          "output_type": "execute_result",
          "data": {
            "text/plain": [
              "<matplotlib.legend.Legend at 0x7b493143a170>"
            ]
          },
          "metadata": {},
          "execution_count": 116
        },
        {
          "output_type": "display_data",
          "data": {
            "text/plain": [
              "<Figure size 640x480 with 1 Axes>"
            ],
            "image/png": "[encoded data removed]"
          },
          "metadata": {}
        }
      ]
    },
    {
      "cell_type": "code",
      "source": [
        "model = KMeanClustring(k=3)\n",
        "\n",
        "epochs = 10\n",
        "history = model.fit(\n",
        "    x = df['PetalWidthCm'][: int((len(df['PetalWidthCm']))*0.8)],\n",
        "    y = df['PetalLengthCm'][: int((len(df['PetalLengthCm']))*0.8)],\n",
        "    epochs=epochs\n",
        ")"
      ],
      "metadata": {
        "colab": {
          "base_uri": "https://localhost:8080/",
          "height": 0
        },
        "id": "Xra1YvZMdWcj",
        "outputId": "26ac1d04-ad67-4bf6-fc06-bc5f537339da"
      },
      "execution_count": 196,
      "outputs": [
        {
          "output_type": "stream",
          "name": "stdout",
          "text": [
            "epoch: 1 \n",
            "New Centroids: [[0.5 6.3]\n",
            " [0.2 4.2]\n",
            " [1.6 1.9]]\n",
            "epoch: 2 \n",
            "New Centroids: [[2.07222222 5.76111111]\n",
            " [1.34901961 4.30196078]\n",
            " [0.26078431 1.49411765]]\n",
            "epoch: 3 \n",
            "New Centroids: [[2.06842105 5.72105263]\n",
            " [1.33137255 4.2627451 ]\n",
            " [0.244      1.464     ]]\n",
            "epoch: 4 \n",
            "New Centroids: [[2.05  5.685]\n",
            " [1.324 4.248]\n",
            " [0.244 1.464]]\n",
            "epoch: 5 \n",
            "New Centroids: [[2.05  5.685]\n",
            " [1.324 4.248]\n",
            " [0.244 1.464]]\n",
            "epoch: 6 \n",
            "New Centroids: [[2.05  5.685]\n",
            " [1.324 4.248]\n",
            " [0.244 1.464]]\n",
            "epoch: 7 \n",
            "New Centroids: [[2.05  5.685]\n",
            " [1.324 4.248]\n",
            " [0.244 1.464]]\n",
            "epoch: 8 \n",
            "New Centroids: [[2.05  5.685]\n",
            " [1.324 4.248]\n",
            " [0.244 1.464]]\n",
            "epoch: 9 \n",
            "New Centroids: [[2.05  5.685]\n",
            " [1.324 4.248]\n",
            " [0.244 1.464]]\n",
            "epoch: 10 \n",
            "New Centroids: [[2.05  5.685]\n",
            " [1.324 4.248]\n",
            " [0.244 1.464]]\n"
          ]
        }
      ]
    },
    {
      "cell_type": "code",
      "source": [
        "plt.figure(figsize=(5, 7))\n",
        "\n",
        "plt.scatter(Iris_setosa_PetalWidthCm[:int(len(Iris_setosa_PetalWidthCm)*0.8)], Iris_setosa_PetalLengthCm[:int(len(Iris_setosa_PetalLengthCm)*0.8)], c='#294549', label='Train Iris_setosa')\n",
        "plt.scatter(Iris_setosa_PetalWidthCm[int(len(Iris_setosa_PetalWidthCm)*0.8):], Iris_setosa_PetalLengthCm[int(len(Iris_setosa_PetalLengthCm)*0.8):], c='#294549', alpha=0.4, label='Test Iris_setosa')\n",
        "plt.scatter(history['centroids'][-3:][0][0] ,history['centroids'][-3:][0][1], c='#294549', label='Centroid of cluster')\n",
        "circle(radius=history['radius'][0], center=(history['centroids'][-3:][0][0], history['centroids'][-3:][0][1]), c='#141e6c')\n",
        "plt.legend()\n",
        "\n",
        "plt.scatter(Iris_versicolor_PetalWidthCm[:int(len(Iris_versicolor_PetalWidthCm)*0.8)], Iris_versicolor_PetalLengthCm[:int(len(Iris_versicolor_PetalLengthCm)*0.8)], c='#b10b53', label='Train Iris_versicolo')\n",
        "plt.scatter(Iris_versicolor_PetalWidthCm[int(len(Iris_virginica_PetalWidthCm)*0.8):], Iris_versicolor_PetalLengthCm[int(len(Iris_versicolor_PetalLengthCm)*0.8):], c='#b10b53', alpha=0.4 , label='Test Iris_versicolo')\n",
        "plt.scatter(history['centroids'][-3:][1][0] ,history['centroids'][-3:][1][1],  c='#b10b53')\n",
        "circle(radius=history['radius'][1], center=(history['centroids'][-3:][1][0], history['centroids'][-3:][1][1]), c='#b10b53')\n",
        "plt.legend()\n",
        "\n",
        "plt.scatter(Iris_virginica_PetalWidthCm[:int(len(Iris_virginica_PetalWidthCm)*0.8)], Iris_virginica_PetalLengthCm[:int(len(Iris_virginica_PetalLengthCm)*0.8)], c='#141e6c', label='Train Iris_virginica')\n",
        "plt.scatter(Iris_virginica_PetalWidthCm[int(len(Iris_virginica_PetalWidthCm)*0.8):], Iris_virginica_PetalLengthCm[int(len(Iris_virginica_PetalWidthCm)*0.8):], c='#141e6c', alpha=0.4, label='Test Iris_virginica')\n",
        "plt.scatter(history['centroids'][-3:][2][0] ,history['centroids'][-3:][2][1],  c='#141e6c')\n",
        "circle(radius=history['radius'][2]-3, center=(history['centroids'][-3:][2][0] ,history['centroids'][-3:][2][1]), c='#294549')\n",
        "plt.legend()\n",
        "\n",
        "plt.title('PetalWidth vs PetalLength')\n",
        "\n",
        "plt.show()"
      ],
      "metadata": {
        "colab": {
          "base_uri": "https://localhost:8080/",
          "height": 622
        },
        "id": "IEzG934Xdw02",
        "outputId": "f745fbea-6c84-4734-8b92-62d2aee4c638"
      },
      "execution_count": 215,
      "outputs": [
        {
          "output_type": "display_data",
          "data": {
            "text/plain": [
              "<Figure size 500x700 with 1 Axes>"
            ],
            "image/png": "[encoded data removed]"
          },
          "metadata": {}
        }
      ]
    },
    {
      "cell_type": "markdown",
      "source": [
        "# DBSCAN"
      ],
      "metadata": {
        "id": "GdeUnL_2l4xk"
      }
    },
    {
      "cell_type": "markdown",
      "source": [
        "DBSCAN requires only two parameters\n",
        "* epsilon: it is the radius of the circle around the data point.\n",
        "* minpoints: it is the min. number of data points requires in circle created above to classify as core point.\n",
        "\n",
        "**NOTE**: in higher dimension the circle becomes sphere.\n",
        "\n",
        "---\n",
        "\n",
        "![datacluster](https://cdn.analyticsvidhya.com/wp-content/uploads/2020/03/db25.png)\n",
        "\n",
        "![datacluster with circle](https://cdn.analyticsvidhya.com/wp-content/uploads/2020/03/db26.png)\n",
        "\n",
        "---\n",
        "\n",
        "* All the data points with at least 3 points in the circle including itself are considered as Core points.(red)\n",
        "* All the data points with less than 3 but greater than 1 point in the circle including itself are considered as Border points.(yellow)\n",
        "* data points with no point other than itself present inside the circle are considered as Noise.(purple)\n",
        "\n",
        "### #Reachablity:\n",
        "it states that a data point can be accessed from another data directly or indirectly.\n",
        "\n",
        "### #Connectivity:\n",
        "it talks about whether the two data points are belongs to the sae cluster or not.\n",
        "\n",
        "\n",
        "\n",
        "1. **Directly density reachable**:\n",
        "if point x belongs from the circle of core point y then x and y are called directly density reachable.\n",
        "![](https://cdn.analyticsvidhya.com/wp-content/uploads/2020/03/db10.png)\n",
        "\n",
        "2. **Density reachable**:\n",
        "if a point x is reachable from point y by the chain of points p1, p2,...pn(core points) then x and y are called Density reachable.\n",
        "![](https://cdn.analyticsvidhya.com/wp-content/uploads/2020/03/db11.png)\n",
        "\n",
        "3. **Density connected**:\n",
        "if there exists a point o such that x and y are density reachable from o then x and y are called density connected.\n",
        "![](https://cdn.analyticsvidhya.com/wp-content/uploads/2020/03/db12.png)\n",
        "\n",
        "\n",
        "**NOTE:** The value of min. point should be one greater then dimension of data. minPoints >= dimensions + 1\n",
        "\n",
        "* The value of epsilon can be decided from the K-distance graph. The point of maximum curvature (elbow) in this graph tells us about the value of epsilon.\n",
        "* If the value of epsilon chosen is too small then a higher number of clusters will be created, and more data points will be taken as noise.\n",
        "* Whereas, if chosen too big then various small clusters will merge into a big cluster, and we will lose details."
      ],
      "metadata": {
        "id": "dhOPcqWLmPul"
      }
    },
    {
      "cell_type": "markdown",
      "source": [
        "### Algorithm\n",
        "\n",
        "1. select an random data point and Find the calculate distance between data points from it.\n",
        "2. sort the claculated distance in ascending order and plot the k-distance graph and find **Knee-point**\n",
        "\n",
        "2. pick a random data point.\n",
        "3. create a circle around it of radius=epsilon.\n",
        "\n",
        "    a. find the points that falls under the circle(directly density reachable)\n",
        "\n",
        "    if there are sufficient points inside the cluster:\n",
        "      mark it as core data point\n",
        "      \n",
        "    else:\n",
        "      mark it as noise\n",
        "    \n",
        "4. now repeat the steps 1 and 2 for data points that falls under the circle created in above steps."
      ],
      "metadata": {
        "id": "mQV6wSqL2T1c"
      }
    },
    {
      "cell_type": "markdown",
      "source": [
        "knee point :- the point from where curve starts banding, this bend indicates that beyond this point the distance started increasing more rapidly, indicating natural selection point between points."
      ],
      "metadata": {
        "id": "6Hkhvu7DtqA4"
      }
    },
    {
      "cell_type": "code",
      "source": [
        "import numpy as np\n",
        "import sys\n",
        "\n",
        "class DBSCAN():\n",
        "  def __init__(self, minPoints):\n",
        "    self.history = {}\n",
        "    self.minPoints = minPoints\n",
        "    self.cluster = []\n",
        "\n",
        "  def calculate_euclidian_distance(self, x1, y1, x2, y2):\n",
        "    return np.sqrt( ((x2-x1)**2) + ((y2-y1)**2) )\n",
        "\n",
        "  def find_SeprationPoint(self, distance, random_point): #point from where the graph started increasing rapidly\n",
        "    point = distance[random_point]\n",
        "    max = -9999\n",
        "    for index, value in enumerate(distance):\n",
        "      if max < (point - value):\n",
        "        max = point - value\n",
        "        save_index = index\n",
        "    return distance[save_index]\n",
        "\n",
        "  def find_avgSeprationPoint(self, distance):\n",
        "    sum = 0\n",
        "    for dist in distance:\n",
        "      sum += dist\n",
        "    return sum/len(distance)\n",
        "\n",
        "  def find_epsilon(self, x, y): #Finding_KneePoint\n",
        "    len_x = len(x); len_y = len(y)\n",
        "    if len_x != len_y:\n",
        "      sys.exit('Error: dimension mismatch expected {}, recieved {}' .format((1, len_x), (1, len_y)))\n",
        "    self.random_point = np.random.randint(0, len_x)\n",
        "    rand_x = x[self.random_point] #x1\n",
        "    rand_y = y[self.random_point] #y1\n",
        "    distance = [self.calculate_euclidian_distance(rand_x, rand_y, x[i], y[i]) for i in range(len_x)]\n",
        "    distance.sort()\n",
        "    epsilon = self.find_avgSeprationPoint(distance)\n",
        "    self.history['distance'] = distance\n",
        "    return epsilon\n",
        "\n",
        "  def find_corePoints(self, epsilon, x, y):\n",
        "    core_points = []\n",
        "    for index, value in enumerate(self.history['distance']):\n",
        "      if (self.history['distance'][self.random_point] - value)**2 >= epsilon**2:\n",
        "          core_points.append(index) #adding index of points not points itself\n",
        "    return core_points\n",
        "\n",
        "  def expand_cluster(self, epsilon, core_points, x, y):\n",
        "    #search for core points\n",
        "    temp = []\n",
        "    for i, point in enumerate(core_points):\n",
        "      if (point in self.cluster) != True:\n",
        "        for index, value in enumerate(self.history['distance']):\n",
        "          if (self.history['distance'][point] - value)**2 <= epsilon**2:\n",
        "            temp.append(index)\n",
        "        if len(temp) >= self.minPoints:\n",
        "          self.cluster.append(point)\n",
        "          self.expand_cluster(epsilon, temp, x, y)\n",
        "    return temp\n",
        "\n",
        "  def __call__(self, x, y):\n",
        "    epsilon = self.find_epsilon(x, y)\n",
        "    core_points = self.find_corePoints(epsilon, x, y)\n",
        "    self.cluster.append(self.random_point)\n",
        "    core_points = self.expand_cluster(epsilon, core_points, x, y)\n",
        "    self.history['cluster'] = self.cluster\n",
        "    return self.history"
      ],
      "metadata": {
        "id": "DU6PyDTyqRx-"
      },
      "execution_count": null,
      "outputs": []
    },
    {
      "cell_type": "code",
      "source": [
        "history = DBSCAN(3)(x, y)"
      ],
      "metadata": {
        "id": "kOA_eH-wxbYf"
      },
      "execution_count": null,
      "outputs": []
    },
    {
      "cell_type": "code",
      "source": [
        "distance = history['distance']\n",
        "\n",
        "import matplotlib.pyplot as plt\n",
        "\n",
        "plt.subplot(1, 2, 1)\n",
        "plt.plot(range(len(distance)), distance)\n",
        "\n",
        "plt.subplot(1, 2, 2)\n",
        "cluster = history['cluster']\n",
        "X = [[], []]\n",
        "for index in cluster:\n",
        "  X[0].append(x[index]); X[1].append(y[index])\n",
        "x, y = X\n",
        "plt.scatter(x, y)\n",
        "plt.show()"
      ],
      "metadata": {
        "colab": {
          "base_uri": "https://localhost:8080/",
          "height": 432
        },
        "id": "zToPKHE_xz56",
        "outputId": "81f198c6-27d3-41c6-c55d-ac76e41df3f5"
      },
      "execution_count": null,
      "outputs": [
        {
          "output_type": "display_data",
          "data": {
            "text/plain": [
              "<Figure size 640x480 with 2 Axes>"
            ],
            "image/png": "[encoded data removed]"
          },
          "metadata": {}
        }
      ]
    },
    {
      "cell_type": "code",
      "source": [
        "#confusion matrix\n",
        "#Negative = -1\n",
        "#positive = 1\n",
        "#Flase = -2\n",
        "#True = 2\n",
        "\n",
        "from scipy.integrate import simps\n",
        "\n",
        "class confusionMatrix:\n",
        "  def __init__(self):\n",
        "    self.matrix = [[0, 0],\n",
        "                   [0, 0]]\n",
        "    self.n_samples = 0\n",
        "    self.true_positive = []\n",
        "    self.false_positive = []\n",
        "\n",
        "  def create(self, predicted, input):\n",
        "    self.n_samples = len(input)\n",
        "    for i in range(len(predicted)):\n",
        "      if predicted[i] == 'Positive' and input[i] == 'Positive':\n",
        "        self.matrix[0][0] = self.matrix[0][0] + 1\n",
        "        self.true_positive.append(self.matrix[0][0])\n",
        "      elif predicted[i] == 'Positive' and input[i] == 'Negative':\n",
        "        self.matrix[0][1] = self.matrix[0][1] + 1\n",
        "        self.false_positive.append(self.matrix[0][1])\n",
        "      elif predicted[i] == 'Negative' and input[i] == 'Positive':\n",
        "        self.matrix[1][0] = self.matrix[1][0] + 1\n",
        "      elif predicted[i] == 'Negative' and input[i] == 'Negative':\n",
        "        self.matrix[1][1] = self.matrix[1][1] + 1\n",
        "\n",
        "  def accuracy(self):\n",
        "    #Accuracy = (True Positives + True Negatives) / Total Samples\n",
        "    return (self.matrix[0][0] + self.matrix[1][1]) / self.n_samples\n",
        "\n",
        "  def precision(self):\n",
        "    #tells how many sample predicted positive out of all correctly predicted image\n",
        "\n",
        "    #Precision = True Positives / (True Positives + False Positives)\n",
        "    return (self.matrix[0][0]) / (self.matrix[0][0] + self.matrix[0][1])\n",
        "\n",
        "  def sensitivity(self):\n",
        "    #Recall = True Positives / (True Positives + False Negatives)\n",
        "    return (self.matrix[0][0]) / (self.matrix[0][0] + self.matrix[1][0])\n",
        "\n",
        "  def f1_score(self):\n",
        "    return (2 * self.precision() * self.sensitivity()) /  (self.precision() + self.sensitivity())\n",
        "\n",
        "  def Specificity(self): #(True Negative Rate\n",
        "    #Specificity = True Negatives / (True Negatives + False Positives)\n",
        "    return self.matrix[1][1] / (self.matrix[1][1] + self.matrix[0][1])\n",
        "\n",
        "  def FPR(self): #false positive rate\n",
        "    #FPR = False Positives / (False Positives + True Negatives)\n",
        "    return self.matrix[0][1] / (self.matrix[0][1] + self.matrix[1][1])\n",
        "\n",
        "  def FNR(self): #false Negative rate\n",
        "    #FNR = False Negatives / (False Negatives + True Positives)\n",
        "    return self.matrix[1][0] / (self.matrix[1][0] + self.matrix[0][0])\n",
        "\n",
        "  def viz_confusionMatrix(self):\n",
        "    plt.imshow(self.matrix, cmap='YlOrRd')\n",
        "    for i in range(2):\n",
        "      for j in range(2):\n",
        "        plt.text(i, j, self.matrix[i][j])\n",
        "    plt.ylabel('Predicted'); plt.xlabel('Actual'); plt.title('Confusion Matrix'); plt.grid(False)\n",
        "    plt.xticks([0, 1], labels=['Postive', 'Negative']); plt.yticks([0, 1], labels=['Postive', 'Negative'])\n",
        "    plt.show();\n",
        "\n",
        "  def ROC_curve(self): #Receiver Operating Characteristic (ROC) Curve\n",
        "    #Plot the true positive rate against the false positive rate to understand the trade-off between sensitivity and specificity.\n",
        "    plt.style.use('seaborn-whitegrid')\n",
        "    plt.plot(range(len(self.true_positive)), self.true_positive, label='True Positive')\n",
        "    plt.plot(range(len(self.false_positive)), self.false_positive, label='False Positive')\n",
        "    plt.legend(); plt.show();\n",
        "\n",
        "  def AUC_ROC(self): #Area Under the ROC Curve\n",
        "    min = len(self.true_positive)\n",
        "    if len(self.false_positive) < min:\n",
        "      min = len(self.false_positive)\n",
        "    return simps(self.true_positive[:min], self.false_positive[:min])"
      ],
      "metadata": {
        "id": "zD1p1yGRH1Mc"
      },
      "execution_count": null,
      "outputs": []
    },
    {
      "cell_type": "code",
      "source": [
        "import random\n",
        "\n",
        "predicted = random.choices(['Positive', 'Negative'], weights=[0.5, 0.5], k=100)\n",
        "actual = random.choices(['Positive', 'Negative'], weights=[0.5, 0.5], k=100)\n",
        "\n",
        "print(predicted, '\\n', actual)"
      ],
      "metadata": {
        "colab": {
          "base_uri": "https://localhost:8080/"
        },
        "id": "8JdWQO2vVEEz",
        "outputId": "084c860e-7712-459a-a502-3e0d9292d149"
      },
      "execution_count": null,
      "outputs": [
        {
          "output_type": "stream",
          "name": "stdout",
          "text": [
            "['Positive', 'Positive', 'Negative', 'Positive', 'Positive', 'Negative', 'Negative', 'Positive', 'Positive', 'Positive', 'Negative', 'Negative', 'Negative', 'Positive', 'Negative', 'Negative', 'Positive', 'Positive', 'Negative', 'Negative', 'Negative', 'Positive', 'Positive', 'Negative', 'Positive', 'Negative', 'Negative', 'Positive', 'Positive', 'Negative', 'Positive', 'Positive', 'Positive', 'Negative', 'Negative', 'Positive', 'Positive', 'Positive', 'Positive', 'Positive', 'Positive', 'Positive', 'Negative', 'Positive', 'Positive', 'Positive', 'Negative', 'Positive', 'Positive', 'Negative', 'Negative', 'Negative', 'Positive', 'Positive', 'Negative', 'Positive', 'Negative', 'Positive', 'Negative', 'Negative', 'Negative', 'Negative', 'Negative', 'Positive', 'Positive', 'Negative', 'Negative', 'Negative', 'Negative', 'Positive', 'Negative', 'Negative', 'Negative', 'Negative', 'Positive', 'Positive', 'Negative', 'Negative', 'Negative', 'Positive', 'Positive', 'Positive', 'Positive', 'Positive', 'Negative', 'Positive', 'Positive', 'Positive', 'Negative', 'Negative', 'Positive', 'Positive', 'Negative', 'Negative', 'Negative', 'Positive', 'Negative', 'Negative', 'Negative', 'Negative'] \n",
            " ['Negative', 'Negative', 'Negative', 'Positive', 'Negative', 'Positive', 'Negative', 'Positive', 'Positive', 'Positive', 'Positive', 'Positive', 'Positive', 'Negative', 'Negative', 'Positive', 'Positive', 'Negative', 'Negative', 'Positive', 'Positive', 'Positive', 'Positive', 'Positive', 'Negative', 'Negative', 'Positive', 'Positive', 'Negative', 'Positive', 'Positive', 'Positive', 'Positive', 'Positive', 'Negative', 'Positive', 'Positive', 'Negative', 'Positive', 'Negative', 'Negative', 'Negative', 'Positive', 'Positive', 'Positive', 'Positive', 'Positive', 'Negative', 'Positive', 'Negative', 'Negative', 'Negative', 'Positive', 'Negative', 'Positive', 'Positive', 'Positive', 'Negative', 'Negative', 'Negative', 'Negative', 'Positive', 'Negative', 'Negative', 'Negative', 'Positive', 'Negative', 'Positive', 'Positive', 'Positive', 'Negative', 'Negative', 'Positive', 'Positive', 'Positive', 'Negative', 'Negative', 'Negative', 'Positive', 'Positive', 'Negative', 'Negative', 'Negative', 'Negative', 'Negative', 'Negative', 'Positive', 'Positive', 'Negative', 'Negative', 'Negative', 'Positive', 'Positive', 'Negative', 'Negative', 'Positive', 'Positive', 'Positive', 'Negative', 'Positive']\n"
          ]
        }
      ]
    },
    {
      "cell_type": "code",
      "source": [
        "model = confusionMatrix()\n",
        "model.create(predicted, actual)"
      ],
      "metadata": {
        "id": "wsGBMzCNWNvy"
      },
      "execution_count": null,
      "outputs": []
    },
    {
      "cell_type": "code",
      "source": [
        "print('model accuracy:', model.accuracy())\n",
        "print('model precision:', model.precision())\n",
        "print('model sensitivity:', model.sensitivity())\n",
        "print('model f1_score:', model.f1_score())\n",
        "print('model Specificity:', model.Specificity())\n",
        "print('model FPR:', model.FPR())\n",
        "print('model FNR:', model.FNR())\n",
        "print('model AUC-ROC:', model.AUC_ROC())"
      ],
      "metadata": {
        "colab": {
          "base_uri": "https://localhost:8080/"
        },
        "id": "w9z6ZpOPa5KP",
        "outputId": "cd9ee0fe-e983-492a-8f79-058ea0ec9373"
      },
      "execution_count": null,
      "outputs": [
        {
          "output_type": "stream",
          "name": "stdout",
          "text": [
            "model accuracy: 0.51\n",
            "model precision: 0.54\n",
            "model sensitivity: 0.5094339622641509\n",
            "model f1_score: 0.5242718446601942\n",
            "model Specificity: 0.5106382978723404\n",
            "model FPR: 0.48936170212765956\n",
            "model FNR: 0.49056603773584906\n",
            "model AUC-ROC: 264.0\n"
          ]
        }
      ]
    },
    {
      "cell_type": "code",
      "source": [
        "model.viz_confusionMatrix()"
      ],
      "metadata": {
        "colab": {
          "base_uri": "https://localhost:8080/",
          "height": 465
        },
        "id": "CLl5ygoMXQEx",
        "outputId": "d75085ed-f27d-422e-d1ce-47c1104b22cf"
      },
      "execution_count": null,
      "outputs": [
        {
          "output_type": "display_data",
          "data": {
            "text/plain": [
              "<Figure size 640x480 with 1 Axes>"
            ],
            "image/png": "[encoded data removed]"
          },
          "metadata": {}
        }
      ]
    },
    {
      "cell_type": "code",
      "source": [
        "model.ROC_curve()"
      ],
      "metadata": {
        "colab": {
          "base_uri": "https://localhost:8080/",
          "height": 481
        },
        "id": "kBZADFF2YKj3",
        "outputId": "2745ce3e-ca1f-4ff7-8bfb-6ddb2d638a0d"
      },
      "execution_count": null,
      "outputs": [
        {
          "output_type": "stream",
          "name": "stderr",
          "text": [
            "<ipython-input-301-b1830942e941>:71: MatplotlibDeprecationWarning: The seaborn styles shipped by Matplotlib are deprecated since 3.6, as they no longer correspond to the styles shipped by seaborn. However, they will remain available as 'seaborn-v0_8-<style>'. Alternatively, directly use the seaborn API instead.\n",
            "  plt.style.use('seaborn-whitegrid')\n"
          ]
        },
        {
          "output_type": "display_data",
          "data": {
            "text/plain": [
              "<Figure size 640x480 with 1 Axes>"
            ],
            "image/png": "[encoded data removed]"
          },
          "metadata": {}
        }
      ]
    },
    {
      "cell_type": "markdown",
      "source": [
        "# Data Mining & predicting modeling"
      ],
      "metadata": {
        "id": "jd3ZbCzmvaZE"
      }
    },
    {
      "cell_type": "markdown",
      "source": [
        "## Aim:- Preproceeing diabatic dataset"
      ],
      "metadata": {
        "id": "SM-k8mu5geY9"
      }
    },
    {
      "cell_type": "markdown",
      "source": [
        "**Code:-**"
      ],
      "metadata": {
        "id": "lPeqyMiW0Vg6"
      }
    },
    {
      "cell_type": "code",
      "source": [
        "!mkdir ~/.kaggle/\n",
        "!cp kaggle.json ~/.kaggle\n",
        "!chmod 600 ~/.kaggle/kaggle.json\n",
        "!kaggle datasets download -d mathchi/diabetes-data-set\n",
        "!unzip diabetes-data-set"
      ],
      "metadata": {
        "colab": {
          "base_uri": "https://localhost:8080/"
        },
        "id": "GZayxo7pgpwv",
        "outputId": "5540f842-fde4-46a8-91bf-3fb1e472360a"
      },
      "execution_count": null,
      "outputs": [
        {
          "output_type": "stream",
          "name": "stdout",
          "text": [
            "Requirement already satisfied: kaggle in /usr/local/lib/python3.10/dist-packages (1.5.16)\n",
            "Requirement already satisfied: six>=1.10 in /usr/local/lib/python3.10/dist-packages (from kaggle) (1.16.0)\n",
            "Requirement already satisfied: certifi in /usr/local/lib/python3.10/dist-packages (from kaggle) (2023.7.22)\n",
            "Requirement already satisfied: python-dateutil in /usr/local/lib/python3.10/dist-packages (from kaggle) (2.8.2)\n",
            "Requirement already satisfied: requests in /usr/local/lib/python3.10/dist-packages (from kaggle) (2.31.0)\n",
            "Requirement already satisfied: tqdm in /usr/local/lib/python3.10/dist-packages (from kaggle) (4.65.0)\n",
            "Requirement already satisfied: python-slugify in /usr/local/lib/python3.10/dist-packages (from kaggle) (8.0.1)\n",
            "Requirement already satisfied: urllib3 in /usr/local/lib/python3.10/dist-packages (from kaggle) (1.26.16)\n",
            "Requirement already satisfied: bleach in /usr/local/lib/python3.10/dist-packages (from kaggle) (6.0.0)\n",
            "Requirement already satisfied: webencodings in /usr/local/lib/python3.10/dist-packages (from bleach->kaggle) (0.5.1)\n",
            "Requirement already satisfied: text-unidecode>=1.3 in /usr/local/lib/python3.10/dist-packages (from python-slugify->kaggle) (1.3)\n",
            "Requirement already satisfied: charset-normalizer<4,>=2 in /usr/local/lib/python3.10/dist-packages (from requests->kaggle) (3.2.0)\n",
            "Requirement already satisfied: idna<4,>=2.5 in /usr/local/lib/python3.10/dist-packages (from requests->kaggle) (3.4)\n",
            "Downloading diabetes-data-set.zip to /content\n",
            "  0% 0.00/8.91k [00:00<?, ?B/s]\n",
            "100% 8.91k/8.91k [00:00<00:00, 17.1MB/s]\n",
            "Archive:  diabetes-data-set.zip\n",
            "  inflating: diabetes.csv            \n"
          ]
        }
      ]
    },
    {
      "cell_type": "code",
      "source": [
        "import pandas as pd\n",
        "import numpy as np"
      ],
      "metadata": {
        "id": "dhAHEzW-h_68"
      },
      "execution_count": null,
      "outputs": []
    },
    {
      "cell_type": "code",
      "source": [
        "df = pd.read_csv('/content/diabetes.csv')\n",
        "df.head()"
      ],
      "metadata": {
        "colab": {
          "base_uri": "https://localhost:8080/",
          "height": 206
        },
        "id": "nMP21CSpiCW4",
        "outputId": "b39e0fe1-44ab-4fd9-b79d-e2b658b51f5b"
      },
      "execution_count": null,
      "outputs": [
        {
          "output_type": "execute_result",
          "data": {
            "text/plain": [
              "   Pregnancies  Glucose  BloodPressure  SkinThickness  Insulin   BMI  \\\n",
              "0            6      148             72             35        0  33.6   \n",
              "1            1       85             66             29        0  26.6   \n",
              "2            8      183             64              0        0  23.3   \n",
              "3            1       89             66             23       94  28.1   \n",
              "4            0      137             40             35      168  43.1   \n",
              "\n",
              "   DiabetesPedigreeFunction  Age  Outcome  \n",
              "0                     0.627   50        1  \n",
              "1                     0.351   31        0  \n",
              "2                     0.672   32        1  \n",
              "3                     0.167   21        0  \n",
              "4                     2.288   33        1  "
            ],
            "text/html": [
              "\n",
              "\n",
              "  <div id=\"df-bb6e1a90-3d3e-4efa-8672-96e5fb04cc88\">\n",
              "    <div class=\"colab-df-container\">\n",
              "      <div>\n",
              "<style scoped>\n",
              "    .dataframe tbody tr th:only-of-type {\n",
              "        vertical-align: middle;\n",
              "    }\n",
              "\n",
              "    .dataframe tbody tr th {\n",
              "        vertical-align: top;\n",
              "    }\n",
              "\n",
              "    .dataframe thead th {\n",
              "        text-align: right;\n",
              "    }\n",
              "</style>\n",
              "<table border=\"1\" class=\"dataframe\">\n",
              "  <thead>\n",
              "    <tr style=\"text-align: right;\">\n",
              "      <th></th>\n",
              "      <th>Pregnancies</th>\n",
              "      <th>Glucose</th>\n",
              "      <th>BloodPressure</th>\n",
              "      <th>SkinThickness</th>\n",
              "      <th>Insulin</th>\n",
              "      <th>BMI</th>\n",
              "      <th>DiabetesPedigreeFunction</th>\n",
              "      <th>Age</th>\n",
              "      <th>Outcome</th>\n",
              "    </tr>\n",
              "  </thead>\n",
              "  <tbody>\n",
              "    <tr>\n",
              "      <th>0</th>\n",
              "      <td>6</td>\n",
              "      <td>148</td>\n",
              "      <td>72</td>\n",
              "      <td>35</td>\n",
              "      <td>0</td>\n",
              "      <td>33.6</td>\n",
              "      <td>0.627</td>\n",
              "      <td>50</td>\n",
              "      <td>1</td>\n",
              "    </tr>\n",
              "    <tr>\n",
              "      <th>1</th>\n",
              "      <td>1</td>\n",
              "      <td>85</td>\n",
              "      <td>66</td>\n",
              "      <td>29</td>\n",
              "      <td>0</td>\n",
              "      <td>26.6</td>\n",
              "      <td>0.351</td>\n",
              "      <td>31</td>\n",
              "      <td>0</td>\n",
              "    </tr>\n",
              "    <tr>\n",
              "      <th>2</th>\n",
              "      <td>8</td>\n",
              "      <td>183</td>\n",
              "      <td>64</td>\n",
              "      <td>0</td>\n",
              "      <td>0</td>\n",
              "      <td>23.3</td>\n",
              "      <td>0.672</td>\n",
              "      <td>32</td>\n",
              "      <td>1</td>\n",
              "    </tr>\n",
              "    <tr>\n",
              "      <th>3</th>\n",
              "      <td>1</td>\n",
              "      <td>89</td>\n",
              "      <td>66</td>\n",
              "      <td>23</td>\n",
              "      <td>94</td>\n",
              "      <td>28.1</td>\n",
              "      <td>0.167</td>\n",
              "      <td>21</td>\n",
              "      <td>0</td>\n",
              "    </tr>\n",
              "    <tr>\n",
              "      <th>4</th>\n",
              "      <td>0</td>\n",
              "      <td>137</td>\n",
              "      <td>40</td>\n",
              "      <td>35</td>\n",
              "      <td>168</td>\n",
              "      <td>43.1</td>\n",
              "      <td>2.288</td>\n",
              "      <td>33</td>\n",
              "      <td>1</td>\n",
              "    </tr>\n",
              "  </tbody>\n",
              "</table>\n",
              "</div>\n",
              "      <button class=\"colab-df-convert\" onclick=\"convertToInteractive('df-bb6e1a90-3d3e-4efa-8672-96e5fb04cc88')\"\n",
              "              title=\"Convert this dataframe to an interactive table.\"\n",
              "              style=\"display:none;\">\n",
              "\n",
              "  <svg xmlns=\"http://www.w3.org/2000/svg\" height=\"24px\"viewBox=\"0 0 24 24\"\n",
              "       width=\"24px\">\n",
              "    <path d=\"M0 0h24v24H0V0z\" fill=\"none\"/>\n",
              "    <path d=\"M18.56 5.44l.94 2.06.94-2.06 2.06-.94-2.06-.94-.94-2.06-.94 2.06-2.06.94zm-11 1L8.5 8.5l.94-2.06 2.06-.94-2.06-.94L8.5 2.5l-.94 2.06-2.06.94zm10 10l.94 2.06.94-2.06 2.06-.94-2.06-.94-.94-2.06-.94 2.06-2.06.94z\"/><path d=\"M17.41 7.96l-1.37-1.37c-.4-.4-.92-.59-1.43-.59-.52 0-1.04.2-1.43.59L10.3 9.45l-7.72 7.72c-.78.78-.78 2.05 0 2.83L4 21.41c.39.39.9.59 1.41.59.51 0 1.02-.2 1.41-.59l7.78-7.78 2.81-2.81c.8-.78.8-2.07 0-2.86zM5.41 20L4 18.59l7.72-7.72 1.47 1.35L5.41 20z\"/>\n",
              "  </svg>\n",
              "      </button>\n",
              "\n",
              "\n",
              "\n",
              "    <div id=\"df-ae006221-cf0a-4290-a904-61affebd418d\">\n",
              "      <button class=\"colab-df-quickchart\" onclick=\"quickchart('df-ae006221-cf0a-4290-a904-61affebd418d')\"\n",
              "              title=\"Suggest charts.\"\n",
              "              style=\"display:none;\">\n",
              "\n",
              "<svg xmlns=\"http://www.w3.org/2000/svg\" height=\"24px\"viewBox=\"0 0 24 24\"\n",
              "     width=\"24px\">\n",
              "    <g>\n",
              "        <path d=\"M19 3H5c-1.1 0-2 .9-2 2v14c0 1.1.9 2 2 2h14c1.1 0 2-.9 2-2V5c0-1.1-.9-2-2-2zM9 17H7v-7h2v7zm4 0h-2V7h2v10zm4 0h-2v-4h2v4z\"/>\n",
              "    </g>\n",
              "</svg>\n",
              "      </button>\n",
              "    </div>\n",
              "\n",
              "<style>\n",
              "  .colab-df-quickchart {\n",
              "    background-color: #E8F0FE;\n",
              "    border: none;\n",
              "    border-radius: 50%;\n",
              "    cursor: pointer;\n",
              "    display: none;\n",
              "    fill: #1967D2;\n",
              "    height: 32px;\n",
              "    padding: 0 0 0 0;\n",
              "    width: 32px;\n",
              "  }\n",
              "\n",
              "  .colab-df-quickchart:hover {\n",
              "    background-color: #E2EBFA;\n",
              "    box-shadow: 0px 1px 2px rgba(60, 64, 67, 0.3), 0px 1px 3px 1px rgba(60, 64, 67, 0.15);\n",
              "    fill: #174EA6;\n",
              "  }\n",
              "\n",
              "  [theme=dark] .colab-df-quickchart {\n",
              "    background-color: #3B4455;\n",
              "    fill: #D2E3FC;\n",
              "  }\n",
              "\n",
              "  [theme=dark] .colab-df-quickchart:hover {\n",
              "    background-color: #434B5C;\n",
              "    box-shadow: 0px 1px 3px 1px rgba(0, 0, 0, 0.15);\n",
              "    filter: drop-shadow(0px 1px 2px rgba(0, 0, 0, 0.3));\n",
              "    fill: #FFFFFF;\n",
              "  }\n",
              "</style>\n",
              "\n",
              "    <script>\n",
              "      async function quickchart(key) {\n",
              "        const containerElement = document.querySelector('#' + key);\n",
              "        const charts = await google.colab.kernel.invokeFunction(\n",
              "            'suggestCharts', [key], {});\n",
              "      }\n",
              "    </script>\n",
              "\n",
              "      <script>\n",
              "\n",
              "function displayQuickchartButton(domScope) {\n",
              "  let quickchartButtonEl =\n",
              "    domScope.querySelector('#df-ae006221-cf0a-4290-a904-61affebd418d button.colab-df-quickchart');\n",
              "  quickchartButtonEl.style.display =\n",
              "    google.colab.kernel.accessAllowed ? 'block' : 'none';\n",
              "}\n",
              "\n",
              "        displayQuickchartButton(document);\n",
              "      </script>\n",
              "      <style>\n",
              "    .colab-df-container {\n",
              "      display:flex;\n",
              "      flex-wrap:wrap;\n",
              "      gap: 12px;\n",
              "    }\n",
              "\n",
              "    .colab-df-convert {\n",
              "      background-color: #E8F0FE;\n",
              "      border: none;\n",
              "      border-radius: 50%;\n",
              "      cursor: pointer;\n",
              "      display: none;\n",
              "      fill: #1967D2;\n",
              "      height: 32px;\n",
              "      padding: 0 0 0 0;\n",
              "      width: 32px;\n",
              "    }\n",
              "\n",
              "    .colab-df-convert:hover {\n",
              "      background-color: #E2EBFA;\n",
              "      box-shadow: 0px 1px 2px rgba(60, 64, 67, 0.3), 0px 1px 3px 1px rgba(60, 64, 67, 0.15);\n",
              "      fill: #174EA6;\n",
              "    }\n",
              "\n",
              "    [theme=dark] .colab-df-convert {\n",
              "      background-color: #3B4455;\n",
              "      fill: #D2E3FC;\n",
              "    }\n",
              "\n",
              "    [theme=dark] .colab-df-convert:hover {\n",
              "      background-color: #434B5C;\n",
              "      box-shadow: 0px 1px 3px 1px rgba(0, 0, 0, 0.15);\n",
              "      filter: drop-shadow(0px 1px 2px rgba(0, 0, 0, 0.3));\n",
              "      fill: #FFFFFF;\n",
              "    }\n",
              "  </style>\n",
              "\n",
              "      <script>\n",
              "        const buttonEl =\n",
              "          document.querySelector('#df-bb6e1a90-3d3e-4efa-8672-96e5fb04cc88 button.colab-df-convert');\n",
              "        buttonEl.style.display =\n",
              "          google.colab.kernel.accessAllowed ? 'block' : 'none';\n",
              "\n",
              "        async function convertToInteractive(key) {\n",
              "          const element = document.querySelector('#df-bb6e1a90-3d3e-4efa-8672-96e5fb04cc88');\n",
              "          const dataTable =\n",
              "            await google.colab.kernel.invokeFunction('convertToInteractive',\n",
              "                                                     [key], {});\n",
              "          if (!dataTable) return;\n",
              "\n",
              "          const docLinkHtml = 'Like what you see? Visit the ' +\n",
              "            '<a target=\"_blank\" href=https://colab.research.google.com/notebooks/data_table.ipynb>data table notebook</a>'\n",
              "            + ' to learn more about interactive tables.';\n",
              "          element.innerHTML = '';\n",
              "          dataTable['output_type'] = 'display_data';\n",
              "          await google.colab.output.renderOutput(dataTable, element);\n",
              "          const docLink = document.createElement('div');\n",
              "          docLink.innerHTML = docLinkHtml;\n",
              "          element.appendChild(docLink);\n",
              "        }\n",
              "      </script>\n",
              "    </div>\n",
              "  </div>\n"
            ]
          },
          "metadata": {},
          "execution_count": 27
        }
      ]
    },
    {
      "cell_type": "code",
      "source": [
        "df = df.sort_values(by=['Age'])"
      ],
      "metadata": {
        "id": "krQ7h503jSgk"
      },
      "execution_count": null,
      "outputs": []
    },
    {
      "cell_type": "code",
      "source": [
        "Age = df['Age']\n",
        "Glucose = df['Glucose']\n",
        "Insulin = df['Insulin']\n",
        "BMI = df['BMI']\n",
        "BloodPressure = df['BloodPressure']\n",
        "Outcome = df['Outcome']\n",
        "SkinThickness\t = df['SkinThickness']"
      ],
      "metadata": {
        "id": "RfYSlsKCj3C8"
      },
      "execution_count": null,
      "outputs": []
    },
    {
      "cell_type": "code",
      "source": [
        "def normal(series, **kwargs):\n",
        "  series = np.array(series)\n",
        "  series = np.squeeze(series)\n",
        "  mean = series.mean()\n",
        "  std = series.std()\n",
        "  for key, value in kwargs.items():\n",
        "    if key == 'mean':\n",
        "      mean = value\n",
        "    if key == 'std':\n",
        "      std = value\n",
        "  f = 1 / (std * np.sqrt(2*np.pi))\n",
        "  z = -1/2 * np.power((series - mean)/ std , 2)\n",
        "  y = f * np.exp(z)\n",
        "  return y"
      ],
      "metadata": {
        "id": "gVoshHkTZ1QG"
      },
      "execution_count": null,
      "outputs": []
    },
    {
      "cell_type": "code",
      "source": [
        "import matplotlib.pyplot as plt\n",
        "\n",
        "y = normal(Age)\n",
        "plt.plot(Age, y)\n",
        "plt.scatter(Age.mean(), max(y), color='red', label=f'Mean Age Value: {Age.mean()}')\n",
        "plt.plot([Age.mean() for _ in range(10)], np.linspace(0, max(y), 10), '--r')\n",
        "plt.legend()\n",
        "plt.xlabel('Age')\n",
        "plt.ylabel('pdf_age')\n",
        "plt.grid(True)\n",
        "plt.show()"
      ],
      "metadata": {
        "colab": {
          "base_uri": "https://localhost:8080/",
          "height": 445
        },
        "id": "wyRYJbdgpiHf",
        "outputId": "45ed2d2d-ffea-44af-dc62-40e428f7ccfd"
      },
      "execution_count": null,
      "outputs": [
        {
          "output_type": "display_data",
          "data": {
            "text/plain": [
              "<Figure size 640x480 with 1 Axes>"
            ],
            "image/png": "[encoded data removed]"
          },
          "metadata": {}
        }
      ]
    },
    {
      "cell_type": "code",
      "source": [
        "Glucose_normal = df[df['Glucose'] < 140 ]\n",
        "Glaucose_prediabetes = df[df['Glucose'] > 140 ]\n",
        "Glaucose_prediabetes = Glaucose_prediabetes[ Glaucose_prediabetes['Glucose'] < 199 ]\n",
        "Glucose_excess = df[df['Glucose'] > 200]"
      ],
      "metadata": {
        "id": "tpoO1wSN08sz"
      },
      "execution_count": null,
      "outputs": []
    },
    {
      "cell_type": "code",
      "source": [
        "Glucose_normal = Glucose_normal.groupby(['Outcome']).count()\n",
        "Glaucose_prediabetes = Glaucose_prediabetes.groupby(['Outcome']).count()\n",
        "Glucose_excess = Glucose_excess.groupby(['Outcome']).count()"
      ],
      "metadata": {
        "id": "-7Hha2gS2LaD"
      },
      "execution_count": null,
      "outputs": []
    },
    {
      "cell_type": "code",
      "source": [
        "plt.figure(figsize=(15, 10))\n",
        "\n",
        "plt.subplot(1, 2, 1)\n",
        "_, _, x = plt.pie(Glucose_normal['Age'], labels=['Negative', 'Positive'], shadow=True, explode=[0.0, 0.1], startangle=90, textprops={'color': 'black'},\n",
        "        wedgeprops={'edgecolor': 'black', 'linewidth': 0.5}, autopct='%.1f%%', colors=['gold', 'mediumturquoise'])\n",
        "plt.setp(x, color='white', fontweight='bold')\n",
        "plt.title('Total number of people having normal glaucose level')\n",
        "plt.legend(loc='upper right')\n",
        "\n",
        "plt.subplot(1, 2, 2)\n",
        "_, _, x = plt.pie(Glaucose_prediabetes['Age'], labels=['Negative', 'Positive'], shadow=True, explode=[0.0, 0.1], startangle=90, textprops={'color': 'black'},\n",
        "        wedgeprops={'edgecolor': 'black', 'linewidth': 0.5}, autopct='%.1f%%', colors=['gold', 'mediumturquoise'])\n",
        "plt.setp(x, color='white', fontweight='bold')\n",
        "plt.title('Total number of people having prediabatic glaucose level')\n",
        "plt.legend(loc='upper right')\n",
        "\n",
        "plt.plot()"
      ],
      "metadata": {
        "colab": {
          "base_uri": "https://localhost:8080/",
          "height": 603
        },
        "id": "AsuqibgA8xhC",
        "outputId": "101f3380-37cd-483e-9bf5-aaa3ba23d5fc"
      },
      "execution_count": null,
      "outputs": [
        {
          "output_type": "execute_result",
          "data": {
            "text/plain": [
              "[]"
            ]
          },
          "metadata": {},
          "execution_count": 34
        },
        {
          "output_type": "display_data",
          "data": {
            "text/plain": [
              "<Figure size 1500x1000 with 2 Axes>"
            ],
            "image/png": "[encoded data removed]"
          },
          "metadata": {}
        }
      ]
    },
    {
      "cell_type": "code",
      "source": [
        "# Corelation in-between\n",
        "\n",
        "def corelation(x, y):\n",
        "  x , y = np.array(x), np.array(y)\n",
        "  x, y = np.squeeze(x), np.squeeze(y)\n",
        "  if x.shape != y.shape:\n",
        "    sys.exit('Error: dimension mismatch got {} {}' .format(x.dim, y.dim))\n",
        "  xmean = x.mean()\n",
        "  ymean = y.mean()\n",
        "  nmtr = 0; dmtr1 = 0; dmtr2 = 0\n",
        "  for i in range(len(x)):\n",
        "    nmtr += (x[i]  - xmean)*(y[i] - ymean)\n",
        "    dmtr1 += (x[i] - xmean)**2; dmtr2 += (y[i] - ymean)**2\n",
        "\n",
        "  return nmtr / np.sqrt(dmtr1 * dmtr2)"
      ],
      "metadata": {
        "id": "PVDtvzZBET6P"
      },
      "execution_count": null,
      "outputs": []
    },
    {
      "cell_type": "code",
      "source": [
        "r = [[] for _ in range(len(df.columns))]\n",
        "\n",
        "for i in range(len(df.columns)):\n",
        "  for j in range(len(df.columns)):\n",
        "    r[i].append( corelation( df.iloc[:, i], df.iloc[:, j]) )"
      ],
      "metadata": {
        "id": "txb2W6XpGddf"
      },
      "execution_count": null,
      "outputs": []
    },
    {
      "cell_type": "code",
      "source": [
        "r = np.array(r, dtype=np.float16)\n",
        "r = np.tril(r)\n",
        "plt.figure(figsize=(10, 10))\n",
        "plt.imshow(r, cmap='Greens')\n",
        "plt.colorbar()\n",
        "plt.xticks([i for i in range(len(df.columns))], labels = df.columns, color='black', rotation=60)\n",
        "plt.yticks([i for i in range(len(df.columns))], labels = df.columns, color='black')\n",
        "plt.grid(False)\n",
        "plt.title('Correlation in-between variables')\n",
        "for i in range(len(df.columns)):\n",
        "  for j in range(len(df.columns)):\n",
        "    val = r[j][i]\n",
        "    if val != 0.0:\n",
        "      color = 'black'\n",
        "      shift = 0.4\n",
        "      if val == 1.0:\n",
        "        color = 'white'\n",
        "        shift = 0.2\n",
        "      plt.text(i-shift, j, val, color=color)\n",
        "plt.show()"
      ],
      "metadata": {
        "colab": {
          "base_uri": "https://localhost:8080/",
          "height": 891
        },
        "id": "PjzZyjbHIGuD",
        "outputId": "b3889919-df9c-4a35-ceee-9c0c6042712d"
      },
      "execution_count": null,
      "outputs": [
        {
          "output_type": "display_data",
          "data": {
            "text/plain": [
              "<Figure size 1000x1000 with 2 Axes>"
            ],
            "image/png": "[encoded data removed]"
          },
          "metadata": {}
        }
      ]
    },
    {
      "cell_type": "markdown",
      "source": [
        "## Aim:- Demonstration of classification rule process on dataset using simple K-means algorithm in weka explorer\n",
        "\n",
        "**Procedure:-**\n",
        "\n",
        "Load Dataset: Open the Weka Explorer and load your dataset. Go to the \"Preprocess\" tab, and click the \"Open file\" button to load your dataset.\n",
        "\n",
        "Filter Data: If necessary, you can apply filters to preprocess your data. Click on the \"Filter\" button and select any filters you'd like to apply, such as removing attributes, filling missing values, or standardizing the data.\n",
        "\n",
        "1. Choose K-Means: In the \"Cluster\" panel on the \"Cluster\" tab, select the \"SimpleKMeans\" algorithm.\n",
        "\n",
        "2. Set Options: Click on the \"SimpleKMeans\" to open the options dialog. Set the following options:\n",
        "\n",
        "3. numClusters: Set the number of clusters you want, which should correspond to the number of classes you want to create.\n",
        "4. distanceFunction: Choose the distance function you want to use (e.g., Euclidean).\n",
        "5. maxIterations: Set the maximum number of iterations the algorithm should run.\n",
        "6. Run K-Means: Click the \"Start\" button to run the k-means algorithm on your data.\n",
        "\n",
        "7. Inspect Results: After the algorithm finishes, switch to the \"Cluster assignments\" tab. Here you'll see the cluster assignments for each instance. You can treat each cluster as a class label.\n",
        "\n",
        "8. Evaluate Results: To evaluate the performance of your classification, you can use the \"Classify\" tab. Load the same dataset and then load the cluster assignments you obtained from the k-means algorithm. You can now compare the predicted cluster assignments with the original class labels.\n"
      ],
      "metadata": {
        "id": "rw5wpiHrsbux"
      }
    },
    {
      "cell_type": "markdown",
      "source": [
        "## Aim:- Build Neural network to preprocss diabatic dataset.\n",
        "\n",
        "**Theory:-**\n",
        "\n",
        "Neural networks are a class of machine learning models inspired by the structure and functioning of the human brain's interconnected neurons. They are used for a wide range of tasks, including classification, regression, image and speech recognition, and more."
      ],
      "metadata": {
        "id": "b035TYCSvnxZ"
      }
    },
    {
      "cell_type": "markdown",
      "source": [
        "**Code:-**"
      ],
      "metadata": {
        "id": "QwNqnunC0KvI"
      }
    },
    {
      "cell_type": "code",
      "source": [
        "import tensorflow as tf"
      ],
      "metadata": {
        "id": "518HKuIQvvv9"
      },
      "execution_count": null,
      "outputs": []
    },
    {
      "cell_type": "code",
      "source": [
        "df1 = df.sort_values(by='Glucose')\n",
        "df1.head()"
      ],
      "metadata": {
        "id": "i7aUwjY4wY1s",
        "colab": {
          "base_uri": "https://localhost:8080/",
          "height": 206
        },
        "outputId": "28577e39-41e5-40bc-92cc-62d836623c6d"
      },
      "execution_count": null,
      "outputs": [
        {
          "output_type": "execute_result",
          "data": {
            "text/plain": [
              "     Pregnancies  Glucose  BloodPressure  SkinThickness  Insulin   BMI  \\\n",
              "342            1        0             68             35        0  32.0   \n",
              "75             1        0             48             20        0  24.7   \n",
              "182            1        0             74             20       23  27.7   \n",
              "349            5        0             80             32        0  41.0   \n",
              "502            6        0             68             41        0  39.0   \n",
              "\n",
              "     DiabetesPedigreeFunction  Age  Outcome  \n",
              "342                     0.389   22        0  \n",
              "75                      0.140   22        0  \n",
              "182                     0.299   21        0  \n",
              "349                     0.346   37        1  \n",
              "502                     0.727   41        1  "
            ],
            "text/html": [
              "\n",
              "\n",
              "  <div id=\"df-4816fba7-752d-436d-a572-ea547f86b344\">\n",
              "    <div class=\"colab-df-container\">\n",
              "      <div>\n",
              "<style scoped>\n",
              "    .dataframe tbody tr th:only-of-type {\n",
              "        vertical-align: middle;\n",
              "    }\n",
              "\n",
              "    .dataframe tbody tr th {\n",
              "        vertical-align: top;\n",
              "    }\n",
              "\n",
              "    .dataframe thead th {\n",
              "        text-align: right;\n",
              "    }\n",
              "</style>\n",
              "<table border=\"1\" class=\"dataframe\">\n",
              "  <thead>\n",
              "    <tr style=\"text-align: right;\">\n",
              "      <th></th>\n",
              "      <th>Pregnancies</th>\n",
              "      <th>Glucose</th>\n",
              "      <th>BloodPressure</th>\n",
              "      <th>SkinThickness</th>\n",
              "      <th>Insulin</th>\n",
              "      <th>BMI</th>\n",
              "      <th>DiabetesPedigreeFunction</th>\n",
              "      <th>Age</th>\n",
              "      <th>Outcome</th>\n",
              "    </tr>\n",
              "  </thead>\n",
              "  <tbody>\n",
              "    <tr>\n",
              "      <th>342</th>\n",
              "      <td>1</td>\n",
              "      <td>0</td>\n",
              "      <td>68</td>\n",
              "      <td>35</td>\n",
              "      <td>0</td>\n",
              "      <td>32.0</td>\n",
              "      <td>0.389</td>\n",
              "      <td>22</td>\n",
              "      <td>0</td>\n",
              "    </tr>\n",
              "    <tr>\n",
              "      <th>75</th>\n",
              "      <td>1</td>\n",
              "      <td>0</td>\n",
              "      <td>48</td>\n",
              "      <td>20</td>\n",
              "      <td>0</td>\n",
              "      <td>24.7</td>\n",
              "      <td>0.140</td>\n",
              "      <td>22</td>\n",
              "      <td>0</td>\n",
              "    </tr>\n",
              "    <tr>\n",
              "      <th>182</th>\n",
              "      <td>1</td>\n",
              "      <td>0</td>\n",
              "      <td>74</td>\n",
              "      <td>20</td>\n",
              "      <td>23</td>\n",
              "      <td>27.7</td>\n",
              "      <td>0.299</td>\n",
              "      <td>21</td>\n",
              "      <td>0</td>\n",
              "    </tr>\n",
              "    <tr>\n",
              "      <th>349</th>\n",
              "      <td>5</td>\n",
              "      <td>0</td>\n",
              "      <td>80</td>\n",
              "      <td>32</td>\n",
              "      <td>0</td>\n",
              "      <td>41.0</td>\n",
              "      <td>0.346</td>\n",
              "      <td>37</td>\n",
              "      <td>1</td>\n",
              "    </tr>\n",
              "    <tr>\n",
              "      <th>502</th>\n",
              "      <td>6</td>\n",
              "      <td>0</td>\n",
              "      <td>68</td>\n",
              "      <td>41</td>\n",
              "      <td>0</td>\n",
              "      <td>39.0</td>\n",
              "      <td>0.727</td>\n",
              "      <td>41</td>\n",
              "      <td>1</td>\n",
              "    </tr>\n",
              "  </tbody>\n",
              "</table>\n",
              "</div>\n",
              "      <button class=\"colab-df-convert\" onclick=\"convertToInteractive('df-4816fba7-752d-436d-a572-ea547f86b344')\"\n",
              "              title=\"Convert this dataframe to an interactive table.\"\n",
              "              style=\"display:none;\">\n",
              "\n",
              "  <svg xmlns=\"http://www.w3.org/2000/svg\" height=\"24px\"viewBox=\"0 0 24 24\"\n",
              "       width=\"24px\">\n",
              "    <path d=\"M0 0h24v24H0V0z\" fill=\"none\"/>\n",
              "    <path d=\"M18.56 5.44l.94 2.06.94-2.06 2.06-.94-2.06-.94-.94-2.06-.94 2.06-2.06.94zm-11 1L8.5 8.5l.94-2.06 2.06-.94-2.06-.94L8.5 2.5l-.94 2.06-2.06.94zm10 10l.94 2.06.94-2.06 2.06-.94-2.06-.94-.94-2.06-.94 2.06-2.06.94z\"/><path d=\"M17.41 7.96l-1.37-1.37c-.4-.4-.92-.59-1.43-.59-.52 0-1.04.2-1.43.59L10.3 9.45l-7.72 7.72c-.78.78-.78 2.05 0 2.83L4 21.41c.39.39.9.59 1.41.59.51 0 1.02-.2 1.41-.59l7.78-7.78 2.81-2.81c.8-.78.8-2.07 0-2.86zM5.41 20L4 18.59l7.72-7.72 1.47 1.35L5.41 20z\"/>\n",
              "  </svg>\n",
              "      </button>\n",
              "\n",
              "\n",
              "\n",
              "    <div id=\"df-976119f6-9352-4bef-acc3-0f993e201c79\">\n",
              "      <button class=\"colab-df-quickchart\" onclick=\"quickchart('df-976119f6-9352-4bef-acc3-0f993e201c79')\"\n",
              "              title=\"Suggest charts.\"\n",
              "              style=\"display:none;\">\n",
              "\n",
              "<svg xmlns=\"http://www.w3.org/2000/svg\" height=\"24px\"viewBox=\"0 0 24 24\"\n",
              "     width=\"24px\">\n",
              "    <g>\n",
              "        <path d=\"M19 3H5c-1.1 0-2 .9-2 2v14c0 1.1.9 2 2 2h14c1.1 0 2-.9 2-2V5c0-1.1-.9-2-2-2zM9 17H7v-7h2v7zm4 0h-2V7h2v10zm4 0h-2v-4h2v4z\"/>\n",
              "    </g>\n",
              "</svg>\n",
              "      </button>\n",
              "    </div>\n",
              "\n",
              "<style>\n",
              "  .colab-df-quickchart {\n",
              "    background-color: #E8F0FE;\n",
              "    border: none;\n",
              "    border-radius: 50%;\n",
              "    cursor: pointer;\n",
              "    display: none;\n",
              "    fill: #1967D2;\n",
              "    height: 32px;\n",
              "    padding: 0 0 0 0;\n",
              "    width: 32px;\n",
              "  }\n",
              "\n",
              "  .colab-df-quickchart:hover {\n",
              "    background-color: #E2EBFA;\n",
              "    box-shadow: 0px 1px 2px rgba(60, 64, 67, 0.3), 0px 1px 3px 1px rgba(60, 64, 67, 0.15);\n",
              "    fill: #174EA6;\n",
              "  }\n",
              "\n",
              "  [theme=dark] .colab-df-quickchart {\n",
              "    background-color: #3B4455;\n",
              "    fill: #D2E3FC;\n",
              "  }\n",
              "\n",
              "  [theme=dark] .colab-df-quickchart:hover {\n",
              "    background-color: #434B5C;\n",
              "    box-shadow: 0px 1px 3px 1px rgba(0, 0, 0, 0.15);\n",
              "    filter: drop-shadow(0px 1px 2px rgba(0, 0, 0, 0.3));\n",
              "    fill: #FFFFFF;\n",
              "  }\n",
              "</style>\n",
              "\n",
              "    <script>\n",
              "      async function quickchart(key) {\n",
              "        const containerElement = document.querySelector('#' + key);\n",
              "        const charts = await google.colab.kernel.invokeFunction(\n",
              "            'suggestCharts', [key], {});\n",
              "      }\n",
              "    </script>\n",
              "\n",
              "      <script>\n",
              "\n",
              "function displayQuickchartButton(domScope) {\n",
              "  let quickchartButtonEl =\n",
              "    domScope.querySelector('#df-976119f6-9352-4bef-acc3-0f993e201c79 button.colab-df-quickchart');\n",
              "  quickchartButtonEl.style.display =\n",
              "    google.colab.kernel.accessAllowed ? 'block' : 'none';\n",
              "}\n",
              "\n",
              "        displayQuickchartButton(document);\n",
              "      </script>\n",
              "      <style>\n",
              "    .colab-df-container {\n",
              "      display:flex;\n",
              "      flex-wrap:wrap;\n",
              "      gap: 12px;\n",
              "    }\n",
              "\n",
              "    .colab-df-convert {\n",
              "      background-color: #E8F0FE;\n",
              "      border: none;\n",
              "      border-radius: 50%;\n",
              "      cursor: pointer;\n",
              "      display: none;\n",
              "      fill: #1967D2;\n",
              "      height: 32px;\n",
              "      padding: 0 0 0 0;\n",
              "      width: 32px;\n",
              "    }\n",
              "\n",
              "    .colab-df-convert:hover {\n",
              "      background-color: #E2EBFA;\n",
              "      box-shadow: 0px 1px 2px rgba(60, 64, 67, 0.3), 0px 1px 3px 1px rgba(60, 64, 67, 0.15);\n",
              "      fill: #174EA6;\n",
              "    }\n",
              "\n",
              "    [theme=dark] .colab-df-convert {\n",
              "      background-color: #3B4455;\n",
              "      fill: #D2E3FC;\n",
              "    }\n",
              "\n",
              "    [theme=dark] .colab-df-convert:hover {\n",
              "      background-color: #434B5C;\n",
              "      box-shadow: 0px 1px 3px 1px rgba(0, 0, 0, 0.15);\n",
              "      filter: drop-shadow(0px 1px 2px rgba(0, 0, 0, 0.3));\n",
              "      fill: #FFFFFF;\n",
              "    }\n",
              "  </style>\n",
              "\n",
              "      <script>\n",
              "        const buttonEl =\n",
              "          document.querySelector('#df-4816fba7-752d-436d-a572-ea547f86b344 button.colab-df-convert');\n",
              "        buttonEl.style.display =\n",
              "          google.colab.kernel.accessAllowed ? 'block' : 'none';\n",
              "\n",
              "        async function convertToInteractive(key) {\n",
              "          const element = document.querySelector('#df-4816fba7-752d-436d-a572-ea547f86b344');\n",
              "          const dataTable =\n",
              "            await google.colab.kernel.invokeFunction('convertToInteractive',\n",
              "                                                     [key], {});\n",
              "          if (!dataTable) return;\n",
              "\n",
              "          const docLinkHtml = 'Like what you see? Visit the ' +\n",
              "            '<a target=\"_blank\" href=https://colab.research.google.com/notebooks/data_table.ipynb>data table notebook</a>'\n",
              "            + ' to learn more about interactive tables.';\n",
              "          element.innerHTML = '';\n",
              "          dataTable['output_type'] = 'display_data';\n",
              "          await google.colab.output.renderOutput(dataTable, element);\n",
              "          const docLink = document.createElement('div');\n",
              "          docLink.innerHTML = docLinkHtml;\n",
              "          element.appendChild(docLink);\n",
              "        }\n",
              "      </script>\n",
              "    </div>\n",
              "  </div>\n"
            ]
          },
          "metadata": {},
          "execution_count": 39
        }
      ]
    },
    {
      "cell_type": "code",
      "source": [
        "Age = (df1['Age'])\n",
        "Outcome\t = (df1['Outcome'])"
      ],
      "metadata": {
        "id": "Wm1vxFZfViMz"
      },
      "execution_count": null,
      "outputs": []
    },
    {
      "cell_type": "code",
      "source": [
        "train_x = Age[: int(len(Age)*0.8)]\n",
        "train_y = Outcome[: int(len(Outcome)*0.8)]\n",
        "\n",
        "val_x = Age[: int(len(Age)*0.8) ]\n",
        "val_y = Outcome[: int(len(Outcome)*0.8) ]"
      ],
      "metadata": {
        "id": "py2ZTCMuV8U2"
      },
      "execution_count": null,
      "outputs": []
    },
    {
      "cell_type": "code",
      "source": [
        "train_x = np.array(train_x)\n",
        "train_y = np.array(train_y)\n",
        "\n",
        "#train_x = train_x.reshape(1, len(train_x))\n",
        "#train_y = train_y.reshape(1, len(train_y))"
      ],
      "metadata": {
        "id": "k_pPCXJSZufw"
      },
      "execution_count": null,
      "outputs": []
    },
    {
      "cell_type": "code",
      "source": [
        "input = tf.keras.layers.Input(shape=(1,)) #takes input shape of individual samples not entire dataset\n",
        "print(input)\n",
        "\n",
        "x = tf.keras.layers.Dense(10, activation='sigmoid')(input)\n",
        "print(x)\n",
        "\n",
        "x = tf.keras.layers.Dense(5, activation='sigmoid')(x)\n",
        "print(x)\n",
        "\n",
        "out = tf.keras.layers.Dense(1, activation='sigmoid')(x)\n",
        "print(out)\n",
        "\n",
        "model = tf.keras.Model(inputs=input, outputs=out)\n",
        "model.summary()"
      ],
      "metadata": {
        "id": "fYEaMKpgWahL"
      },
      "execution_count": null,
      "outputs": []
    },
    {
      "cell_type": "code",
      "source": [
        "model.compile(\n",
        "    loss = 'mse',\n",
        "    optimizer = 'adam',\n",
        "    metrics = ['mse', 'mae']\n",
        ")"
      ],
      "metadata": {
        "id": "HHU01dAmXGfS"
      },
      "execution_count": null,
      "outputs": []
    },
    {
      "cell_type": "code",
      "source": [
        "epochs = 300\n",
        "\n",
        "history = model.fit(\n",
        "    train_x, train_y,\n",
        "    epochs = epochs,\n",
        "    validation_data=(val_x, val_y),\n",
        ")"
      ],
      "metadata": {
        "id": "v8T_zCNAXZUy"
      },
      "execution_count": null,
      "outputs": []
    },
    {
      "cell_type": "code",
      "source": [
        "index = 50\n",
        "\n",
        "test = train_x[index]\n",
        "prediciton = model.predict(np.expand_dims(test, axis=0))\n",
        "\n",
        "print('Input: {} - Prediction: {} - Real: {}' .format(test, prediciton, df['Outcome'][index]))"
      ],
      "metadata": {
        "colab": {
          "base_uri": "https://localhost:8080/"
        },
        "id": "VwYmysUYgE8L",
        "outputId": "838f6708-6307-4c0f-de60-5d73ab1fbbd8"
      },
      "execution_count": null,
      "outputs": [
        {
          "output_type": "stream",
          "name": "stdout",
          "text": [
            "1/1 [==============================] - 0s 36ms/step\n",
            "Input: 22 - Prediction: [[0.12715179]] - Real: 0\n"
          ]
        }
      ]
    },
    {
      "cell_type": "markdown",
      "source": [
        "#Aim:- Demonstration of association rule using dataset diabetic diagnosis using apriori algorithm in weka explorer.\n",
        "\n",
        "Procedure:-\n",
        "1. Load Dataset: Open the Weka Explorer and load your diabetic diagnosis dataset. Go to the \"Preprocess\" tab, and click the \"Open file\" button to load your dataset.\n",
        "\n",
        "2. Filter Data: If needed, apply filters to preprocess your data. For association rule mining, you typically work with nominal (categorical) data. Make sure your dataset's attributes are properly configured as nominal.\n",
        "\n",
        "3. Choose Apriori Algorithm: In the \"Associate\" panel on the \"Associate\" tab, select the \"Apriori\" algorithm.\n",
        "\n",
        "4. Set Options: Click on the \"Apriori\" to open the options dialog. Set the following options:\n",
        "\n",
        "5. minSupport: Set the minimum support threshold. This value determines how frequent an itemset must be in the dataset to be considered.\n",
        "\n",
        "6. minConfidence: Set the minimum confidence threshold. This value determines the minimum level of confidence required for generated association rules.\n",
        "\n",
        "7. numRules: Set the maximum number of rules to generate.\n",
        "Run Apriori: Click the \"Start\" button to run the Apriori algorithm on your data.\n",
        "\n",
        "8. Inspect Results: After the algorithm finishes, switch to the \"Association rules\" tab. Here you'll see the generated association rules along with support and confidence values.\n",
        "\n",
        "9. Evaluate Results: Evaluate the generated rules based on your domain knowledge and objectives. You can filter rules based on support and confidence thresholds to focus on the most interesting rules.\n",
        "\n",
        "10. Interpretation: Each association rule consists of an antecedent (left-hand side) and a consequent (right-hand side). The antecedent represents a set of items or conditions, and the consequent represents the result or prediction. For example, a rule like \"Diagnosis=A -> Medication=B\" indicates that if diagnosis A is present, medication B is likely to be prescribed.\n",
        "\n",
        "11. Export or Use Rules: You can export the generated association rules to a file or use them for decision-making and insights. Weka provides options for exporting rules in various formats."
      ],
      "metadata": {
        "id": "IJsjgmbyrZAU"
      }
    },
    {
      "cell_type": "markdown",
      "source": [
        "# SC"
      ],
      "metadata": {
        "id": "Fm65qlCatFQk"
      }
    },
    {
      "cell_type": "markdown",
      "source": [
        "## Aim:- Create a perceptron with an appropriate number of inputs and outputs. Train it using a fixed incrementlearning algorithm until no change in weights is required. Output the final weights"
      ],
      "metadata": {
        "id": "bNDBZIJftFnQ"
      }
    },
    {
      "cell_type": "markdown",
      "source": [
        "**Theory:-**\n",
        "* It is a first model of ANN with supervised learning.\n",
        "* It is used for clasification of patterns that are linearly seprable.\n",
        "* It consist of single neuron(input and output layer only) with adjustable synaptic weight and bias.\n",
        "\n",
        "<img src=\"https://www.simplilearn.com/ice9/free_resources_article_thumb/Perceptron/general-diagram-of-perceptron-for-supervised-learning_4.jpg\" alt=\"Perceptron\" style=\"left-margin:50px;\">\n",
        "\n",
        "---\n",
        "\n",
        "* as we know perceptron is built on single neuron so it is limited to perform classification with only two classes.\n",
        "* By expanding the output layer to include more than one neurons, classification with more than two classes can be done(classes have to be linearly seprable).\n",
        "\n",
        "<img src=\"https://upload.wikimedia.org/wikipedia/commons/a/af/Linearly_separable_red-blue_cropped_.svg\" alt=\"linearly-seprable-data\" class=\"inearly-seprable-data\" margin=\"10%\">\n",
        "<label for=\"inearly-seprable-data\">Linearly seprable Data</label>\n",
        "\n",
        "<br><br>\n",
        "\n",
        "**General Formula: $\\sum_{n=1}^{n=m} _WiXi_ + _b_**\n",
        "\n",
        "* adding bias makes the classification correct, without bias the hyperplane will always go through the origin.\n",
        "* Every neural netwrok including percetron classify the data according to activation function.\n",
        "\n",
        "    | +1 if  y > 0\n",
        "    | 0  if  y = 0\n",
        "    | -1 if  y < 0\n"
      ],
      "metadata": {
        "id": "-F8iBKzatX_A"
      }
    },
    {
      "cell_type": "markdown",
      "source": [
        "**Code:-**"
      ],
      "metadata": {
        "id": "ZO2aokHe0QdY"
      }
    },
    {
      "cell_type": "code",
      "source": [
        "import numpy as np\n",
        "\n",
        "class Perceptron:\n",
        "    def __init__(self, input_size, learning_rate=0.01, epochs=100):\n",
        "        self.weights = np.zeros(input_size + 1)\n",
        "        self.learning_rate = learning_rate\n",
        "        self.epochs = epochs\n",
        "\n",
        "    def activate(self, x):\n",
        "        return 1 if x >= 0 else 0\n",
        "\n",
        "    def predict(self, x):\n",
        "        x = np.insert(x, 0, 1)\n",
        "        z = np.dot(x, self.weights)\n",
        "        return self.activate(z)\n",
        "\n",
        "    def train(self, X, y):\n",
        "        for _ in range(self.epochs):\n",
        "            for inputs, label in zip(X, y):\n",
        "                prediction = self.predict(inputs)\n",
        "                self.weights += self.learning_rate * (label - prediction) * np.insert(inputs, 0, 1)\n",
        "\n",
        "X = np.array([[0, 0], [0, 1], [1, 0], [1, 1]])\n",
        "y = np.array([0, 0, 0, 1])\n",
        "\n",
        "perceptron = Perceptron(input_size=2)\n",
        "perceptron.train(X, y)\n",
        "\n",
        "test_data = np.array([[0, 0], [0, 1], [1, 0], [1, 1]])\n",
        "for inputs in test_data:\n",
        "    prediction = perceptron.predict(inputs)\n",
        "    print(f\"Inputs: {inputs} -> Prediction: {prediction}\")"
      ],
      "metadata": {
        "colab": {
          "base_uri": "https://localhost:8080/",
          "height": 0
        },
        "id": "Jj777jfbtNci",
        "outputId": "c657910c-8c03-4c50-fc57-974d93070c37"
      },
      "execution_count": 236,
      "outputs": [
        {
          "output_type": "stream",
          "name": "stdout",
          "text": [
            "Inputs: [0 0] -> Prediction: 0\n",
            "Inputs: [0 1] -> Prediction: 0\n",
            "Inputs: [1 0] -> Prediction: 0\n",
            "Inputs: [1 1] -> Prediction: 1\n"
          ]
        }
      ]
    },
    {
      "cell_type": "markdown",
      "source": [
        "## Aim:- Training a feed forward Neural network."
      ],
      "metadata": {
        "id": "nCI4_mTSvMC2"
      }
    },
    {
      "cell_type": "markdown",
      "source": [
        "**Theory:-**\n",
        "* this neuron has only one input and one output and no hidden layer.\n",
        "* the neuron is capable only to forward the signal.\n",
        "\n",
        "      SOP = XW\n",
        "\n",
        "* sigmoid function is use as a activation function.\n",
        "      sigmoid = 1 / 1 + e^(-SOP)\n",
        "      \n",
        "* We are assuming the output will lie between 0 to 1. if there is two classes(c1 and c2) then class c1 if output is less then equal to 0.5 otherwise class c2.\n",
        "\n",
        "* After calculating the predicted output we will measure the prediction error.\n",
        "      error = $\\sum_{n=0}to{n=N} (predicted - real)^2\n",
        "      \n",
        "* after calculation of prediction error, the forward pass is complete.\n",
        "\n",
        " Forward Pass:\n",
        "* let initialy W = 0.5 and X = 2, y = 1 then SOP = 1.0 and\n",
        "* sigmoid = 1 / 1 + e^(-1.0) => 0.73105857863\n",
        "* output is 0.7\n",
        "* error = (0.7 - 1.0)^2 = 0.09"
      ],
      "metadata": {
        "id": "8duiWU1Uvaxo"
      }
    },
    {
      "cell_type": "code",
      "source": [
        "import numpy as np\n",
        "\n",
        "def sigmoid(sop):\n",
        "      return 1.0 / (1 + np.exp(-1 * sop))\n",
        "\n",
        "def error(predicted, real):\n",
        "      return np.power(predicted - real, 2)\n",
        "\n",
        "x = 2\n",
        "real = 1.0\n",
        "learning_rate = 0.01\n",
        "w = np.random.rand()\n",
        "\n",
        "print(\"initial w: \", w)\n",
        "\n",
        "for i in range(int(input('Enter epoches: '))):\n",
        "      # Forward pass\n",
        "      y = w * x\n",
        "      predicted = sigmoid(y)\n",
        "      err = error(predicted, real)\n",
        "      print(\"Prediction: %f, Error: %f, weight: %f\" %(predicted, err, w))"
      ],
      "metadata": {
        "colab": {
          "base_uri": "https://localhost:8080/",
          "height": 0
        },
        "id": "kEenj9TOur0d",
        "outputId": "fe7ef3cc-f9bb-4df7-bff7-8831f34a5574"
      },
      "execution_count": 238,
      "outputs": [
        {
          "output_type": "stream",
          "name": "stdout",
          "text": [
            "initial w:  0.3135347834339869\n",
            "Enter epoches: 1\n",
            "Prediction: 0.651825, Error: 0.121226, weight: 0.313535\n"
          ]
        }
      ]
    },
    {
      "cell_type": "markdown",
      "source": [
        "## Aim:- Train Feed Forward neural Network with Back propagation\n",
        "\n",
        "**Theory:-**\n",
        "\n",
        "Backaward pass:\n",
        "* in backward pass we will try to adjust the value of weight to minimize the error.\n",
        "* To minimize the error we will do differentitaion of error w.r.t to W{d(error)/dW} and set it to equal to zero.\n",
        "          weight gradient => dError/dW = dError/dPredicted * dPredicted/dSOP * dSOP/dW\n",
        "          dError/dPredected = 2(predicted - real) = 2(0.7 - 1.0) = -0.6\n",
        "          dPredected/dSOP = (1 / 1 + e^-SOP) * (1 - (1 / 1 + e^-SOP)) = (0.534) * (0.36) = 0.196\n",
        "          dSOP/dW = X = 2\n",
        "          dError/dW = -0.6 * 0.196 * 2 = -0.2352\n",
        "\n",
        "* weight adjustment formula is W(new) = W(old) - learning_rate * grad\n",
        "      W(new) = 0.5 - 0.01 * (-0.2352) = 0.502352\n",
        "      \n",
        "* the new weight is grater then older one, we will repeat this step and adjust the value of weight until we find the apropriate weight."
      ],
      "metadata": {
        "id": "XOvdfJFvv7vh"
      }
    },
    {
      "cell_type": "code",
      "source": [
        "import numpy as np\n",
        "\n",
        "def sigmoid(sop):\n",
        "      return 1.0 / (1 + np.exp(-1 * sop))\n",
        "\n",
        "def error(predicted, real):\n",
        "      return np.power(predicted - real, 2)\n",
        "\n",
        "def error_prediction_deriv(predicted, real):\n",
        "      return 2 * (predicted - real)\n",
        "\n",
        "def prediction_sop_derv(sop):\n",
        "      return sigmoid(sop) * (1.0 - sigmoid(sop))\n",
        "\n",
        "def sop_w_deriv(x):\n",
        "      return x;\n",
        "\n",
        "def update_w(w, grad, learning_rate):\n",
        "      return w - (learning_rate * grad)\n",
        "\n",
        "x = 2\n",
        "real = 1.0\n",
        "learning_rate = 14\n",
        "w = np.random.rand()\n",
        "\n",
        "print(\"initial w: \", w)\n",
        "\n",
        "for i in range(int(input('Enter epoches: '))):\n",
        "      # Forward pass\n",
        "      y = w * x\n",
        "      predicted = sigmoid(y)\n",
        "      err = error(predicted, real)\n",
        "      print(\"Prediction: %f, Error: %f, real: %f, weight: %f\" %(predicted, err, real, w))\n",
        "\n",
        "      #Backward pass\n",
        "      g1 = error_prediction_deriv(predicted, real)\n",
        "      g2 = prediction_sop_derv(y)\n",
        "      g3 = sop_w_deriv(x)\n",
        "\n",
        "      grad = g1 * g2 *g3\n",
        "\n",
        "      w  = update_w(w, grad, learning_rate)"
      ],
      "metadata": {
        "colab": {
          "base_uri": "https://localhost:8080/",
          "height": 0
        },
        "id": "2eUCqC_Pvu6b",
        "outputId": "a13d66ed-4e8e-4f0a-de7a-890ab30449ad"
      },
      "execution_count": 241,
      "outputs": [
        {
          "output_type": "stream",
          "name": "stdout",
          "text": [
            "initial w:  0.432413497094559\n",
            "Enter epoches: 5\n",
            "Prediction: 0.703668, Error: 0.087813, real: 1.000000, weight: 0.432413\n",
            "Prediction: 0.999584, Error: 0.000000, real: 1.000000, weight: 3.892704\n",
            "Prediction: 0.999584, Error: 0.000000, real: 1.000000, weight: 3.892714\n",
            "Prediction: 0.999584, Error: 0.000000, real: 1.000000, weight: 3.892723\n",
            "Prediction: 0.999584, Error: 0.000000, real: 1.000000, weight: 3.892733\n"
          ]
        }
      ]
    },
    {
      "cell_type": "markdown",
      "source": [
        "## Aim:- Building a Linear Regression Neural network\n"
      ],
      "metadata": {
        "id": "thVOTS-8wrhK"
      }
    },
    {
      "cell_type": "code",
      "source": [],
      "metadata": {
        "id": "BSrp8Q19wlEX"
      },
      "execution_count": null,
      "outputs": []
    },
    {
      "cell_type": "markdown",
      "source": [
        "## Aim:- Implementation of Self-Organizing Map.\n",
        "\n",
        "**Theory:-**\n",
        "\n",
        "A Self-Organizing Map (SOM), also known as a Kohonen map or Kohonen network, is an unsupervised machine learning algorithm used for clustering and visualizing high-dimensional data. It's a type of artificial neural network that can create a low-dimensional representation of input data while preserving its topological properties.\n",
        "\n",
        "SOMs are particularly useful for dimensionality reduction and visualization tasks, as they can reveal underlying patterns and relationships in the data. They achieve this by mapping high-dimensional input data onto a lower-dimensional grid of neurons. Each neuron is associated with a weight vector that adjusts to become similar to the input data it's presented with.\n",
        "\n",
        "overview of how SOMs work:\n",
        "\n",
        "1. Initialization: Initialize a grid of neurons (nodes) in a lower-dimensional space. Each neuron's weight vector has the same dimension as the input data.\n",
        "\n",
        "2. Data Presentation: For each input data point, find the neuron with the closest weight vector (usually determined by Euclidean distance). This neuron is called the \"Best Matching Unit\" (BMU).\n",
        "\n",
        "3. Update Weights: Adjust the weights of the BMU and its neighboring neurons. The goal is to make the BMU's weight vector more similar to the input data. Neighboring neurons are also updated, but with decreasing intensity as they move away from the BMU.\n",
        "\n",
        "4. Learning Rate and Neighborhood Radius: As training progresses, the learning rate and the radius of the neighborhood influence the extent of weight updates. Typically, these values decrease over time, allowing the SOM to converge gradually.\n",
        "\n",
        "5. Iteration: Repeat steps 2-4 for a number of training iterations or until convergence. The result is a grid of neurons where similar data points are mapped close to each other.\n"
      ],
      "metadata": {
        "id": "-cVXga0ywyAf"
      }
    },
    {
      "cell_type": "code",
      "source": [
        "import numpy as np\n",
        "from numpy.ma.core import ceil\n",
        "from scipy.spatial import distance #distance calculation\n",
        "from sklearn.preprocessing import MinMaxScaler #normalisation\n",
        "from sklearn.model_selection import train_test_split\n",
        "from sklearn.metrics import accuracy_score #scoring\n",
        "from sklearn.metrics import confusion_matrix\n",
        "import matplotlib.pyplot as plt\n",
        "from matplotlib import animation, colors\n",
        "\n",
        "data_file = \"data_banknote_authentication.txt\"\n",
        "data_x = np.loadtxt(data_file, delimiter=\",\", skiprows=0, usecols=range(0,4) ,dtype=np.float64)\n",
        "data_y = np.loadtxt(data_file, delimiter=\",\", skiprows=0, usecols=(4,),dtype=np.int64)\n",
        "\n",
        "train_x, test_x, train_y, test_y = train_test_split(data_x, data_y, test_size=0.2, random_state=42)\n",
        "print(train_x.shape, train_y.shape, test_x.shape, test_y.shape) # check the shapes"
      ],
      "metadata": {
        "colab": {
          "base_uri": "https://localhost:8080/",
          "height": 0
        },
        "id": "9YoKlIXexOiH",
        "outputId": "223bf6f8-fbe4-4c2f-f0c4-751bb2fb2b12"
      },
      "execution_count": 252,
      "outputs": [
        {
          "output_type": "stream",
          "name": "stdout",
          "text": [
            "(1097, 4) (1097,) (275, 4) (275,)\n"
          ]
        }
      ]
    },
    {
      "cell_type": "markdown",
      "source": [
        "**Code:-**"
      ],
      "metadata": {
        "id": "mdca3TFZz7gS"
      }
    },
    {
      "cell_type": "code",
      "source": [
        "# Data Normalisation\n",
        "def minmax_scaler(data):\n",
        "  scaler = MinMaxScaler()\n",
        "  scaled = scaler.fit_transform(data)\n",
        "  return scaled\n",
        "\n",
        "# Euclidean distance\n",
        "def e_distance(x,y):\n",
        "  return distance.euclidean(x,y)\n",
        "\n",
        "# Manhattan distance\n",
        "def m_distance(x,y):\n",
        "  return distance.cityblock(x,y)\n",
        "\n",
        "# Best Matching Unit search\n",
        "def winning_neuron(data, t, som, num_rows, num_cols):\n",
        "  winner = [0,0]\n",
        "  shortest_distance = np.sqrt(data.shape[1]) # initialise with max distance\n",
        "  input_data = data[t]\n",
        "  for row in range(num_rows):\n",
        "    for col in range(num_cols):\n",
        "      distance = e_distance(som[row][col], data[t])\n",
        "      if distance < shortest_distance:\n",
        "        shortest_distance = distance\n",
        "        winner = [row,col]\n",
        "  return winner\n",
        "\n",
        "# Learning rate and neighbourhood range calculation\n",
        "def decay(step, max_steps,max_learning_rate,max_m_dsitance):\n",
        "  coefficient = 1.0 - (np.float64(step)/max_steps)\n",
        "  learning_rate = coefficient*max_learning_rate\n",
        "  neighbourhood_range = ceil(coefficient * max_m_dsitance)\n",
        "  return learning_rate, neighbourhood_range"
      ],
      "metadata": {
        "id": "6cYBrAY2zBDH"
      },
      "execution_count": 253,
      "outputs": []
    },
    {
      "cell_type": "code",
      "source": [
        "num_rows = 10\n",
        "num_cols = 10\n",
        "max_m_dsitance = 4\n",
        "max_learning_rate = 0.5\n",
        "max_steps = int(7.5*10e3)"
      ],
      "metadata": {
        "id": "oC-FEodnzJe0"
      },
      "execution_count": 254,
      "outputs": []
    },
    {
      "cell_type": "code",
      "source": [
        "train_x_norm = minmax_scaler(train_x) # normalisation\n",
        "\n",
        "# initialising self-organising map\n",
        "num_dims = train_x_norm.shape[1] # numnber of dimensions in the input data\n",
        "np.random.seed(40)\n",
        "som = np.random.random_sample(size=(num_rows, num_cols, num_dims)) # map construction\n",
        "\n",
        "# start training iterations\n",
        "for step in range(max_steps):\n",
        "  if (step+1) % 1000 == 0:\n",
        "    print(\"Iteration: \", step+1) # print out the current iteration for every 1k\n",
        "  learning_rate, neighbourhood_range = decay(step, max_steps,max_learning_rate,max_m_dsitance)\n",
        "\n",
        "  t = np.random.randint(0,high=train_x_norm.shape[0]) # random index of traing data\n",
        "  winner = winning_neuron(train_x_norm, t, som, num_rows, num_cols)\n",
        "  for row in range(num_rows):\n",
        "    for col in range(num_cols):\n",
        "      if m_distance([row,col],winner) <= neighbourhood_range:\n",
        "        som[row][col] += learning_rate*(train_x_norm[t]-som[row][col]) #update neighbour's weight\n",
        "\n",
        "print(\"SOM training completed\")"
      ],
      "metadata": {
        "id": "lV6hSRDazOD9"
      },
      "execution_count": null,
      "outputs": []
    },
    {
      "cell_type": "code",
      "source": [
        "label_data = train_y\n",
        "map = np.empty(shape=(num_rows, num_cols), dtype=object)\n",
        "\n",
        "for row in range(num_rows):\n",
        "  for col in range(num_cols):\n",
        "    map[row][col] = [] # empty list to store the label\n",
        "\n",
        "for t in range(train_x_norm.shape[0]):\n",
        "  if (t+1) % 1000 == 0:\n",
        "    print(\"sample data: \", t+1)\n",
        "  winner = winning_neuron(train_x_norm, t, som, num_rows, num_cols)\n",
        "  map[winner[0]][winner[1]].append(label_data[t])"
      ],
      "metadata": {
        "colab": {
          "base_uri": "https://localhost:8080/",
          "height": 0
        },
        "id": "-tSyVRJ_zUuh",
        "outputId": "94675b87-7805-4062-d28c-c516235c32e4"
      },
      "execution_count": 256,
      "outputs": [
        {
          "output_type": "stream",
          "name": "stdout",
          "text": [
            "sample data:  1000\n"
          ]
        }
      ]
    },
    {
      "cell_type": "code",
      "source": [
        "label_map = np.zeros(shape=(num_rows, num_cols),dtype=np.int64)\n",
        "for row in range(num_rows):\n",
        "  for col in range(num_cols):\n",
        "    label_list = map[row][col]\n",
        "    if len(label_list)==0:\n",
        "      label = 2\n",
        "    else:\n",
        "      label = max(label_list, key=label_list.count)\n",
        "    label_map[row][col] = label\n",
        "\n",
        "title = ('Iteration ' + str(max_steps))\n",
        "cmap = colors.ListedColormap(['tab:green', 'tab:red', 'tab:orange'])\n",
        "plt.imshow(label_map, cmap=cmap)\n",
        "plt.colorbar()\n",
        "plt.title(title)\n",
        "plt.show()"
      ],
      "metadata": {
        "colab": {
          "base_uri": "https://localhost:8080/",
          "height": 452
        },
        "id": "inPHYYWJzb7e",
        "outputId": "308d413b-f55b-4c23-c7ba-a46bf20b95b4"
      },
      "execution_count": 258,
      "outputs": [
        {
          "output_type": "display_data",
          "data": {
            "text/plain": [
              "<Figure size 640x480 with 2 Axes>"
            ],
            "image/png": "[encoded data removed]"
          },
          "metadata": {}
        }
      ]
    }
  ]
}